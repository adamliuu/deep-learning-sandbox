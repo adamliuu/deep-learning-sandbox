{
 "cells": [
  {
   "cell_type": "markdown",
   "metadata": {},
   "source": [
    "# Deep Learning with MNIST"
   ]
  },
  {
   "cell_type": "markdown",
   "metadata": {},
   "source": [
    "## Loading Dependencies"
   ]
  },
  {
   "cell_type": "code",
   "execution_count": 1,
   "metadata": {},
   "outputs": [],
   "source": [
    "import numpy as np\n",
    "import pandas as pd\n",
    "import sklearn as sk\n",
    "import tensorflow as tf\n",
    "import matplotlib.pyplot as plt"
   ]
  },
  {
   "cell_type": "markdown",
   "metadata": {},
   "source": [
    "## Importing Data"
   ]
  },
  {
   "cell_type": "code",
   "execution_count": 2,
   "metadata": {},
   "outputs": [],
   "source": [
    "raw_train = pd.read_csv('mnist_data/train.csv')\n",
    "test_X = pd.read_csv('mnist_data/test.csv')"
   ]
  },
  {
   "cell_type": "code",
   "execution_count": 3,
   "metadata": {
    "scrolled": true,
    "tags": [
     "hide-input"
    ]
   },
   "outputs": [
    {
     "name": "stdout",
     "output_type": "stream",
     "text": [
      "Rows in training set: 42000\n"
     ]
    },
    {
     "data": {
      "text/html": [
       "<div>\n",
       "<style scoped>\n",
       "    .dataframe tbody tr th:only-of-type {\n",
       "        vertical-align: middle;\n",
       "    }\n",
       "\n",
       "    .dataframe tbody tr th {\n",
       "        vertical-align: top;\n",
       "    }\n",
       "\n",
       "    .dataframe thead th {\n",
       "        text-align: right;\n",
       "    }\n",
       "</style>\n",
       "<table border=\"1\" class=\"dataframe\">\n",
       "  <thead>\n",
       "    <tr style=\"text-align: right;\">\n",
       "      <th></th>\n",
       "      <th>label</th>\n",
       "      <th>pixel0</th>\n",
       "      <th>pixel1</th>\n",
       "      <th>pixel2</th>\n",
       "      <th>pixel3</th>\n",
       "      <th>pixel4</th>\n",
       "      <th>pixel5</th>\n",
       "      <th>pixel6</th>\n",
       "      <th>pixel7</th>\n",
       "      <th>pixel8</th>\n",
       "      <th>...</th>\n",
       "      <th>pixel774</th>\n",
       "      <th>pixel775</th>\n",
       "      <th>pixel776</th>\n",
       "      <th>pixel777</th>\n",
       "      <th>pixel778</th>\n",
       "      <th>pixel779</th>\n",
       "      <th>pixel780</th>\n",
       "      <th>pixel781</th>\n",
       "      <th>pixel782</th>\n",
       "      <th>pixel783</th>\n",
       "    </tr>\n",
       "  </thead>\n",
       "  <tbody>\n",
       "    <tr>\n",
       "      <th>0</th>\n",
       "      <td>1</td>\n",
       "      <td>0</td>\n",
       "      <td>0</td>\n",
       "      <td>0</td>\n",
       "      <td>0</td>\n",
       "      <td>0</td>\n",
       "      <td>0</td>\n",
       "      <td>0</td>\n",
       "      <td>0</td>\n",
       "      <td>0</td>\n",
       "      <td>...</td>\n",
       "      <td>0</td>\n",
       "      <td>0</td>\n",
       "      <td>0</td>\n",
       "      <td>0</td>\n",
       "      <td>0</td>\n",
       "      <td>0</td>\n",
       "      <td>0</td>\n",
       "      <td>0</td>\n",
       "      <td>0</td>\n",
       "      <td>0</td>\n",
       "    </tr>\n",
       "    <tr>\n",
       "      <th>1</th>\n",
       "      <td>0</td>\n",
       "      <td>0</td>\n",
       "      <td>0</td>\n",
       "      <td>0</td>\n",
       "      <td>0</td>\n",
       "      <td>0</td>\n",
       "      <td>0</td>\n",
       "      <td>0</td>\n",
       "      <td>0</td>\n",
       "      <td>0</td>\n",
       "      <td>...</td>\n",
       "      <td>0</td>\n",
       "      <td>0</td>\n",
       "      <td>0</td>\n",
       "      <td>0</td>\n",
       "      <td>0</td>\n",
       "      <td>0</td>\n",
       "      <td>0</td>\n",
       "      <td>0</td>\n",
       "      <td>0</td>\n",
       "      <td>0</td>\n",
       "    </tr>\n",
       "    <tr>\n",
       "      <th>2</th>\n",
       "      <td>1</td>\n",
       "      <td>0</td>\n",
       "      <td>0</td>\n",
       "      <td>0</td>\n",
       "      <td>0</td>\n",
       "      <td>0</td>\n",
       "      <td>0</td>\n",
       "      <td>0</td>\n",
       "      <td>0</td>\n",
       "      <td>0</td>\n",
       "      <td>...</td>\n",
       "      <td>0</td>\n",
       "      <td>0</td>\n",
       "      <td>0</td>\n",
       "      <td>0</td>\n",
       "      <td>0</td>\n",
       "      <td>0</td>\n",
       "      <td>0</td>\n",
       "      <td>0</td>\n",
       "      <td>0</td>\n",
       "      <td>0</td>\n",
       "    </tr>\n",
       "    <tr>\n",
       "      <th>3</th>\n",
       "      <td>4</td>\n",
       "      <td>0</td>\n",
       "      <td>0</td>\n",
       "      <td>0</td>\n",
       "      <td>0</td>\n",
       "      <td>0</td>\n",
       "      <td>0</td>\n",
       "      <td>0</td>\n",
       "      <td>0</td>\n",
       "      <td>0</td>\n",
       "      <td>...</td>\n",
       "      <td>0</td>\n",
       "      <td>0</td>\n",
       "      <td>0</td>\n",
       "      <td>0</td>\n",
       "      <td>0</td>\n",
       "      <td>0</td>\n",
       "      <td>0</td>\n",
       "      <td>0</td>\n",
       "      <td>0</td>\n",
       "      <td>0</td>\n",
       "    </tr>\n",
       "    <tr>\n",
       "      <th>4</th>\n",
       "      <td>0</td>\n",
       "      <td>0</td>\n",
       "      <td>0</td>\n",
       "      <td>0</td>\n",
       "      <td>0</td>\n",
       "      <td>0</td>\n",
       "      <td>0</td>\n",
       "      <td>0</td>\n",
       "      <td>0</td>\n",
       "      <td>0</td>\n",
       "      <td>...</td>\n",
       "      <td>0</td>\n",
       "      <td>0</td>\n",
       "      <td>0</td>\n",
       "      <td>0</td>\n",
       "      <td>0</td>\n",
       "      <td>0</td>\n",
       "      <td>0</td>\n",
       "      <td>0</td>\n",
       "      <td>0</td>\n",
       "      <td>0</td>\n",
       "    </tr>\n",
       "  </tbody>\n",
       "</table>\n",
       "<p>5 rows × 785 columns</p>\n",
       "</div>"
      ],
      "text/plain": [
       "   label  pixel0  pixel1  pixel2  pixel3  pixel4  pixel5  pixel6  pixel7  \\\n",
       "0      1       0       0       0       0       0       0       0       0   \n",
       "1      0       0       0       0       0       0       0       0       0   \n",
       "2      1       0       0       0       0       0       0       0       0   \n",
       "3      4       0       0       0       0       0       0       0       0   \n",
       "4      0       0       0       0       0       0       0       0       0   \n",
       "\n",
       "   pixel8  ...  pixel774  pixel775  pixel776  pixel777  pixel778  pixel779  \\\n",
       "0       0  ...         0         0         0         0         0         0   \n",
       "1       0  ...         0         0         0         0         0         0   \n",
       "2       0  ...         0         0         0         0         0         0   \n",
       "3       0  ...         0         0         0         0         0         0   \n",
       "4       0  ...         0         0         0         0         0         0   \n",
       "\n",
       "   pixel780  pixel781  pixel782  pixel783  \n",
       "0         0         0         0         0  \n",
       "1         0         0         0         0  \n",
       "2         0         0         0         0  \n",
       "3         0         0         0         0  \n",
       "4         0         0         0         0  \n",
       "\n",
       "[5 rows x 785 columns]"
      ]
     },
     "metadata": {},
     "output_type": "display_data"
    },
    {
     "name": "stdout",
     "output_type": "stream",
     "text": [
      "Rows in test set: 784\n"
     ]
    },
    {
     "data": {
      "text/html": [
       "<div>\n",
       "<style scoped>\n",
       "    .dataframe tbody tr th:only-of-type {\n",
       "        vertical-align: middle;\n",
       "    }\n",
       "\n",
       "    .dataframe tbody tr th {\n",
       "        vertical-align: top;\n",
       "    }\n",
       "\n",
       "    .dataframe thead th {\n",
       "        text-align: right;\n",
       "    }\n",
       "</style>\n",
       "<table border=\"1\" class=\"dataframe\">\n",
       "  <thead>\n",
       "    <tr style=\"text-align: right;\">\n",
       "      <th></th>\n",
       "      <th>pixel0</th>\n",
       "      <th>pixel1</th>\n",
       "      <th>pixel2</th>\n",
       "      <th>pixel3</th>\n",
       "      <th>pixel4</th>\n",
       "      <th>pixel5</th>\n",
       "      <th>pixel6</th>\n",
       "      <th>pixel7</th>\n",
       "      <th>pixel8</th>\n",
       "      <th>pixel9</th>\n",
       "      <th>...</th>\n",
       "      <th>pixel774</th>\n",
       "      <th>pixel775</th>\n",
       "      <th>pixel776</th>\n",
       "      <th>pixel777</th>\n",
       "      <th>pixel778</th>\n",
       "      <th>pixel779</th>\n",
       "      <th>pixel780</th>\n",
       "      <th>pixel781</th>\n",
       "      <th>pixel782</th>\n",
       "      <th>pixel783</th>\n",
       "    </tr>\n",
       "  </thead>\n",
       "  <tbody>\n",
       "    <tr>\n",
       "      <th>0</th>\n",
       "      <td>0</td>\n",
       "      <td>0</td>\n",
       "      <td>0</td>\n",
       "      <td>0</td>\n",
       "      <td>0</td>\n",
       "      <td>0</td>\n",
       "      <td>0</td>\n",
       "      <td>0</td>\n",
       "      <td>0</td>\n",
       "      <td>0</td>\n",
       "      <td>...</td>\n",
       "      <td>0</td>\n",
       "      <td>0</td>\n",
       "      <td>0</td>\n",
       "      <td>0</td>\n",
       "      <td>0</td>\n",
       "      <td>0</td>\n",
       "      <td>0</td>\n",
       "      <td>0</td>\n",
       "      <td>0</td>\n",
       "      <td>0</td>\n",
       "    </tr>\n",
       "    <tr>\n",
       "      <th>1</th>\n",
       "      <td>0</td>\n",
       "      <td>0</td>\n",
       "      <td>0</td>\n",
       "      <td>0</td>\n",
       "      <td>0</td>\n",
       "      <td>0</td>\n",
       "      <td>0</td>\n",
       "      <td>0</td>\n",
       "      <td>0</td>\n",
       "      <td>0</td>\n",
       "      <td>...</td>\n",
       "      <td>0</td>\n",
       "      <td>0</td>\n",
       "      <td>0</td>\n",
       "      <td>0</td>\n",
       "      <td>0</td>\n",
       "      <td>0</td>\n",
       "      <td>0</td>\n",
       "      <td>0</td>\n",
       "      <td>0</td>\n",
       "      <td>0</td>\n",
       "    </tr>\n",
       "    <tr>\n",
       "      <th>2</th>\n",
       "      <td>0</td>\n",
       "      <td>0</td>\n",
       "      <td>0</td>\n",
       "      <td>0</td>\n",
       "      <td>0</td>\n",
       "      <td>0</td>\n",
       "      <td>0</td>\n",
       "      <td>0</td>\n",
       "      <td>0</td>\n",
       "      <td>0</td>\n",
       "      <td>...</td>\n",
       "      <td>0</td>\n",
       "      <td>0</td>\n",
       "      <td>0</td>\n",
       "      <td>0</td>\n",
       "      <td>0</td>\n",
       "      <td>0</td>\n",
       "      <td>0</td>\n",
       "      <td>0</td>\n",
       "      <td>0</td>\n",
       "      <td>0</td>\n",
       "    </tr>\n",
       "    <tr>\n",
       "      <th>3</th>\n",
       "      <td>0</td>\n",
       "      <td>0</td>\n",
       "      <td>0</td>\n",
       "      <td>0</td>\n",
       "      <td>0</td>\n",
       "      <td>0</td>\n",
       "      <td>0</td>\n",
       "      <td>0</td>\n",
       "      <td>0</td>\n",
       "      <td>0</td>\n",
       "      <td>...</td>\n",
       "      <td>0</td>\n",
       "      <td>0</td>\n",
       "      <td>0</td>\n",
       "      <td>0</td>\n",
       "      <td>0</td>\n",
       "      <td>0</td>\n",
       "      <td>0</td>\n",
       "      <td>0</td>\n",
       "      <td>0</td>\n",
       "      <td>0</td>\n",
       "    </tr>\n",
       "    <tr>\n",
       "      <th>4</th>\n",
       "      <td>0</td>\n",
       "      <td>0</td>\n",
       "      <td>0</td>\n",
       "      <td>0</td>\n",
       "      <td>0</td>\n",
       "      <td>0</td>\n",
       "      <td>0</td>\n",
       "      <td>0</td>\n",
       "      <td>0</td>\n",
       "      <td>0</td>\n",
       "      <td>...</td>\n",
       "      <td>0</td>\n",
       "      <td>0</td>\n",
       "      <td>0</td>\n",
       "      <td>0</td>\n",
       "      <td>0</td>\n",
       "      <td>0</td>\n",
       "      <td>0</td>\n",
       "      <td>0</td>\n",
       "      <td>0</td>\n",
       "      <td>0</td>\n",
       "    </tr>\n",
       "  </tbody>\n",
       "</table>\n",
       "<p>5 rows × 784 columns</p>\n",
       "</div>"
      ],
      "text/plain": [
       "   pixel0  pixel1  pixel2  pixel3  pixel4  pixel5  pixel6  pixel7  pixel8  \\\n",
       "0       0       0       0       0       0       0       0       0       0   \n",
       "1       0       0       0       0       0       0       0       0       0   \n",
       "2       0       0       0       0       0       0       0       0       0   \n",
       "3       0       0       0       0       0       0       0       0       0   \n",
       "4       0       0       0       0       0       0       0       0       0   \n",
       "\n",
       "   pixel9  ...  pixel774  pixel775  pixel776  pixel777  pixel778  pixel779  \\\n",
       "0       0  ...         0         0         0         0         0         0   \n",
       "1       0  ...         0         0         0         0         0         0   \n",
       "2       0  ...         0         0         0         0         0         0   \n",
       "3       0  ...         0         0         0         0         0         0   \n",
       "4       0  ...         0         0         0         0         0         0   \n",
       "\n",
       "   pixel780  pixel781  pixel782  pixel783  \n",
       "0         0         0         0         0  \n",
       "1         0         0         0         0  \n",
       "2         0         0         0         0  \n",
       "3         0         0         0         0  \n",
       "4         0         0         0         0  \n",
       "\n",
       "[5 rows x 784 columns]"
      ]
     },
     "metadata": {},
     "output_type": "display_data"
    }
   ],
   "source": [
    "print(\"Rows in training set:\", raw_train.shape[0])\n",
    "display(raw_train.head())\n",
    "print(\"Rows in test set:\", test_X.shape[1])\n",
    "display(test_X.head())"
   ]
  },
  {
   "cell_type": "code",
   "execution_count": 4,
   "metadata": {},
   "outputs": [
    {
     "data": {
      "text/html": [
       "<div>\n",
       "<style scoped>\n",
       "    .dataframe tbody tr th:only-of-type {\n",
       "        vertical-align: middle;\n",
       "    }\n",
       "\n",
       "    .dataframe tbody tr th {\n",
       "        vertical-align: top;\n",
       "    }\n",
       "\n",
       "    .dataframe thead th {\n",
       "        text-align: right;\n",
       "    }\n",
       "</style>\n",
       "<table border=\"1\" class=\"dataframe\">\n",
       "  <thead>\n",
       "    <tr style=\"text-align: right;\">\n",
       "      <th></th>\n",
       "      <th>label</th>\n",
       "    </tr>\n",
       "    <tr>\n",
       "      <th>label</th>\n",
       "      <th></th>\n",
       "    </tr>\n",
       "  </thead>\n",
       "  <tbody>\n",
       "    <tr>\n",
       "      <th>0</th>\n",
       "      <td>4132</td>\n",
       "    </tr>\n",
       "    <tr>\n",
       "      <th>1</th>\n",
       "      <td>4684</td>\n",
       "    </tr>\n",
       "    <tr>\n",
       "      <th>2</th>\n",
       "      <td>4177</td>\n",
       "    </tr>\n",
       "    <tr>\n",
       "      <th>3</th>\n",
       "      <td>4351</td>\n",
       "    </tr>\n",
       "    <tr>\n",
       "      <th>4</th>\n",
       "      <td>4072</td>\n",
       "    </tr>\n",
       "    <tr>\n",
       "      <th>5</th>\n",
       "      <td>3795</td>\n",
       "    </tr>\n",
       "    <tr>\n",
       "      <th>6</th>\n",
       "      <td>4137</td>\n",
       "    </tr>\n",
       "    <tr>\n",
       "      <th>7</th>\n",
       "      <td>4401</td>\n",
       "    </tr>\n",
       "    <tr>\n",
       "      <th>8</th>\n",
       "      <td>4063</td>\n",
       "    </tr>\n",
       "    <tr>\n",
       "      <th>9</th>\n",
       "      <td>4188</td>\n",
       "    </tr>\n",
       "  </tbody>\n",
       "</table>\n",
       "</div>"
      ],
      "text/plain": [
       "       label\n",
       "label       \n",
       "0       4132\n",
       "1       4684\n",
       "2       4177\n",
       "3       4351\n",
       "4       4072\n",
       "5       3795\n",
       "6       4137\n",
       "7       4401\n",
       "8       4063\n",
       "9       4188"
      ]
     },
     "execution_count": 4,
     "metadata": {},
     "output_type": "execute_result"
    }
   ],
   "source": [
    "raw_train.groupby('label')[['label']].count()"
   ]
  },
  {
   "cell_type": "markdown",
   "metadata": {},
   "source": [
    "## Generating a Train-Validation Split for the Dataset"
   ]
  },
  {
   "cell_type": "code",
   "execution_count": 5,
   "metadata": {},
   "outputs": [],
   "source": [
    "# Here, we first randomly shuffle the data, then use an 80 (training set size) - 20 (test set size) split to create two\n",
    "# distinct datasets\n",
    "shuffled = raw_train.sample(frac=1)\n",
    "\n",
    "split_index = int(.8 * len(shuffled))\n",
    "\n",
    "# Training set will constitute 80% of the original raw training data\n",
    "train = raw_train.iloc[:split_index]\n",
    "\n",
    "# Validation set will constitute the other 20% of the raw training data\n",
    "val = raw_train.iloc[split_index:]\n",
    "\n",
    "# Finally, separate the label column from the features for convenience during model training\n",
    "train_X, train_y = train.iloc[:, train.columns != 'label'].reset_index(drop=True), train['label'].reset_index(drop=True)\n",
    "val_X, val_y = val.iloc[:, val.columns != 'label'].reset_index(drop=True), val['label'].reset_index(drop=True)"
   ]
  },
  {
   "cell_type": "code",
   "execution_count": 6,
   "metadata": {},
   "outputs": [
    {
     "data": {
      "text/html": [
       "<div>\n",
       "<style scoped>\n",
       "    .dataframe tbody tr th:only-of-type {\n",
       "        vertical-align: middle;\n",
       "    }\n",
       "\n",
       "    .dataframe tbody tr th {\n",
       "        vertical-align: top;\n",
       "    }\n",
       "\n",
       "    .dataframe thead th {\n",
       "        text-align: right;\n",
       "    }\n",
       "</style>\n",
       "<table border=\"1\" class=\"dataframe\">\n",
       "  <thead>\n",
       "    <tr style=\"text-align: right;\">\n",
       "      <th></th>\n",
       "      <th>pixel0</th>\n",
       "      <th>pixel1</th>\n",
       "      <th>pixel2</th>\n",
       "      <th>pixel3</th>\n",
       "      <th>pixel4</th>\n",
       "      <th>pixel5</th>\n",
       "      <th>pixel6</th>\n",
       "      <th>pixel7</th>\n",
       "      <th>pixel8</th>\n",
       "      <th>pixel9</th>\n",
       "      <th>...</th>\n",
       "      <th>pixel774</th>\n",
       "      <th>pixel775</th>\n",
       "      <th>pixel776</th>\n",
       "      <th>pixel777</th>\n",
       "      <th>pixel778</th>\n",
       "      <th>pixel779</th>\n",
       "      <th>pixel780</th>\n",
       "      <th>pixel781</th>\n",
       "      <th>pixel782</th>\n",
       "      <th>pixel783</th>\n",
       "    </tr>\n",
       "  </thead>\n",
       "  <tbody>\n",
       "    <tr>\n",
       "      <th>0</th>\n",
       "      <td>0</td>\n",
       "      <td>0</td>\n",
       "      <td>0</td>\n",
       "      <td>0</td>\n",
       "      <td>0</td>\n",
       "      <td>0</td>\n",
       "      <td>0</td>\n",
       "      <td>0</td>\n",
       "      <td>0</td>\n",
       "      <td>0</td>\n",
       "      <td>...</td>\n",
       "      <td>0</td>\n",
       "      <td>0</td>\n",
       "      <td>0</td>\n",
       "      <td>0</td>\n",
       "      <td>0</td>\n",
       "      <td>0</td>\n",
       "      <td>0</td>\n",
       "      <td>0</td>\n",
       "      <td>0</td>\n",
       "      <td>0</td>\n",
       "    </tr>\n",
       "    <tr>\n",
       "      <th>1</th>\n",
       "      <td>0</td>\n",
       "      <td>0</td>\n",
       "      <td>0</td>\n",
       "      <td>0</td>\n",
       "      <td>0</td>\n",
       "      <td>0</td>\n",
       "      <td>0</td>\n",
       "      <td>0</td>\n",
       "      <td>0</td>\n",
       "      <td>0</td>\n",
       "      <td>...</td>\n",
       "      <td>0</td>\n",
       "      <td>0</td>\n",
       "      <td>0</td>\n",
       "      <td>0</td>\n",
       "      <td>0</td>\n",
       "      <td>0</td>\n",
       "      <td>0</td>\n",
       "      <td>0</td>\n",
       "      <td>0</td>\n",
       "      <td>0</td>\n",
       "    </tr>\n",
       "    <tr>\n",
       "      <th>2</th>\n",
       "      <td>0</td>\n",
       "      <td>0</td>\n",
       "      <td>0</td>\n",
       "      <td>0</td>\n",
       "      <td>0</td>\n",
       "      <td>0</td>\n",
       "      <td>0</td>\n",
       "      <td>0</td>\n",
       "      <td>0</td>\n",
       "      <td>0</td>\n",
       "      <td>...</td>\n",
       "      <td>0</td>\n",
       "      <td>0</td>\n",
       "      <td>0</td>\n",
       "      <td>0</td>\n",
       "      <td>0</td>\n",
       "      <td>0</td>\n",
       "      <td>0</td>\n",
       "      <td>0</td>\n",
       "      <td>0</td>\n",
       "      <td>0</td>\n",
       "    </tr>\n",
       "    <tr>\n",
       "      <th>3</th>\n",
       "      <td>0</td>\n",
       "      <td>0</td>\n",
       "      <td>0</td>\n",
       "      <td>0</td>\n",
       "      <td>0</td>\n",
       "      <td>0</td>\n",
       "      <td>0</td>\n",
       "      <td>0</td>\n",
       "      <td>0</td>\n",
       "      <td>0</td>\n",
       "      <td>...</td>\n",
       "      <td>0</td>\n",
       "      <td>0</td>\n",
       "      <td>0</td>\n",
       "      <td>0</td>\n",
       "      <td>0</td>\n",
       "      <td>0</td>\n",
       "      <td>0</td>\n",
       "      <td>0</td>\n",
       "      <td>0</td>\n",
       "      <td>0</td>\n",
       "    </tr>\n",
       "    <tr>\n",
       "      <th>4</th>\n",
       "      <td>0</td>\n",
       "      <td>0</td>\n",
       "      <td>0</td>\n",
       "      <td>0</td>\n",
       "      <td>0</td>\n",
       "      <td>0</td>\n",
       "      <td>0</td>\n",
       "      <td>0</td>\n",
       "      <td>0</td>\n",
       "      <td>0</td>\n",
       "      <td>...</td>\n",
       "      <td>0</td>\n",
       "      <td>0</td>\n",
       "      <td>0</td>\n",
       "      <td>0</td>\n",
       "      <td>0</td>\n",
       "      <td>0</td>\n",
       "      <td>0</td>\n",
       "      <td>0</td>\n",
       "      <td>0</td>\n",
       "      <td>0</td>\n",
       "    </tr>\n",
       "  </tbody>\n",
       "</table>\n",
       "<p>5 rows × 784 columns</p>\n",
       "</div>"
      ],
      "text/plain": [
       "   pixel0  pixel1  pixel2  pixel3  pixel4  pixel5  pixel6  pixel7  pixel8  \\\n",
       "0       0       0       0       0       0       0       0       0       0   \n",
       "1       0       0       0       0       0       0       0       0       0   \n",
       "2       0       0       0       0       0       0       0       0       0   \n",
       "3       0       0       0       0       0       0       0       0       0   \n",
       "4       0       0       0       0       0       0       0       0       0   \n",
       "\n",
       "   pixel9  ...  pixel774  pixel775  pixel776  pixel777  pixel778  pixel779  \\\n",
       "0       0  ...         0         0         0         0         0         0   \n",
       "1       0  ...         0         0         0         0         0         0   \n",
       "2       0  ...         0         0         0         0         0         0   \n",
       "3       0  ...         0         0         0         0         0         0   \n",
       "4       0  ...         0         0         0         0         0         0   \n",
       "\n",
       "   pixel780  pixel781  pixel782  pixel783  \n",
       "0         0         0         0         0  \n",
       "1         0         0         0         0  \n",
       "2         0         0         0         0  \n",
       "3         0         0         0         0  \n",
       "4         0         0         0         0  \n",
       "\n",
       "[5 rows x 784 columns]"
      ]
     },
     "metadata": {},
     "output_type": "display_data"
    },
    {
     "data": {
      "text/plain": [
       "0    1\n",
       "1    0\n",
       "2    1\n",
       "3    4\n",
       "4    0\n",
       "Name: label, dtype: int64"
      ]
     },
     "metadata": {},
     "output_type": "display_data"
    },
    {
     "data": {
      "text/html": [
       "<div>\n",
       "<style scoped>\n",
       "    .dataframe tbody tr th:only-of-type {\n",
       "        vertical-align: middle;\n",
       "    }\n",
       "\n",
       "    .dataframe tbody tr th {\n",
       "        vertical-align: top;\n",
       "    }\n",
       "\n",
       "    .dataframe thead th {\n",
       "        text-align: right;\n",
       "    }\n",
       "</style>\n",
       "<table border=\"1\" class=\"dataframe\">\n",
       "  <thead>\n",
       "    <tr style=\"text-align: right;\">\n",
       "      <th></th>\n",
       "      <th>pixel0</th>\n",
       "      <th>pixel1</th>\n",
       "      <th>pixel2</th>\n",
       "      <th>pixel3</th>\n",
       "      <th>pixel4</th>\n",
       "      <th>pixel5</th>\n",
       "      <th>pixel6</th>\n",
       "      <th>pixel7</th>\n",
       "      <th>pixel8</th>\n",
       "      <th>pixel9</th>\n",
       "      <th>...</th>\n",
       "      <th>pixel774</th>\n",
       "      <th>pixel775</th>\n",
       "      <th>pixel776</th>\n",
       "      <th>pixel777</th>\n",
       "      <th>pixel778</th>\n",
       "      <th>pixel779</th>\n",
       "      <th>pixel780</th>\n",
       "      <th>pixel781</th>\n",
       "      <th>pixel782</th>\n",
       "      <th>pixel783</th>\n",
       "    </tr>\n",
       "  </thead>\n",
       "  <tbody>\n",
       "    <tr>\n",
       "      <th>0</th>\n",
       "      <td>0</td>\n",
       "      <td>0</td>\n",
       "      <td>0</td>\n",
       "      <td>0</td>\n",
       "      <td>0</td>\n",
       "      <td>0</td>\n",
       "      <td>0</td>\n",
       "      <td>0</td>\n",
       "      <td>0</td>\n",
       "      <td>0</td>\n",
       "      <td>...</td>\n",
       "      <td>0</td>\n",
       "      <td>0</td>\n",
       "      <td>0</td>\n",
       "      <td>0</td>\n",
       "      <td>0</td>\n",
       "      <td>0</td>\n",
       "      <td>0</td>\n",
       "      <td>0</td>\n",
       "      <td>0</td>\n",
       "      <td>0</td>\n",
       "    </tr>\n",
       "    <tr>\n",
       "      <th>1</th>\n",
       "      <td>0</td>\n",
       "      <td>0</td>\n",
       "      <td>0</td>\n",
       "      <td>0</td>\n",
       "      <td>0</td>\n",
       "      <td>0</td>\n",
       "      <td>0</td>\n",
       "      <td>0</td>\n",
       "      <td>0</td>\n",
       "      <td>0</td>\n",
       "      <td>...</td>\n",
       "      <td>0</td>\n",
       "      <td>0</td>\n",
       "      <td>0</td>\n",
       "      <td>0</td>\n",
       "      <td>0</td>\n",
       "      <td>0</td>\n",
       "      <td>0</td>\n",
       "      <td>0</td>\n",
       "      <td>0</td>\n",
       "      <td>0</td>\n",
       "    </tr>\n",
       "    <tr>\n",
       "      <th>2</th>\n",
       "      <td>0</td>\n",
       "      <td>0</td>\n",
       "      <td>0</td>\n",
       "      <td>0</td>\n",
       "      <td>0</td>\n",
       "      <td>0</td>\n",
       "      <td>0</td>\n",
       "      <td>0</td>\n",
       "      <td>0</td>\n",
       "      <td>0</td>\n",
       "      <td>...</td>\n",
       "      <td>0</td>\n",
       "      <td>0</td>\n",
       "      <td>0</td>\n",
       "      <td>0</td>\n",
       "      <td>0</td>\n",
       "      <td>0</td>\n",
       "      <td>0</td>\n",
       "      <td>0</td>\n",
       "      <td>0</td>\n",
       "      <td>0</td>\n",
       "    </tr>\n",
       "    <tr>\n",
       "      <th>3</th>\n",
       "      <td>0</td>\n",
       "      <td>0</td>\n",
       "      <td>0</td>\n",
       "      <td>0</td>\n",
       "      <td>0</td>\n",
       "      <td>0</td>\n",
       "      <td>0</td>\n",
       "      <td>0</td>\n",
       "      <td>0</td>\n",
       "      <td>0</td>\n",
       "      <td>...</td>\n",
       "      <td>0</td>\n",
       "      <td>0</td>\n",
       "      <td>0</td>\n",
       "      <td>0</td>\n",
       "      <td>0</td>\n",
       "      <td>0</td>\n",
       "      <td>0</td>\n",
       "      <td>0</td>\n",
       "      <td>0</td>\n",
       "      <td>0</td>\n",
       "    </tr>\n",
       "    <tr>\n",
       "      <th>4</th>\n",
       "      <td>0</td>\n",
       "      <td>0</td>\n",
       "      <td>0</td>\n",
       "      <td>0</td>\n",
       "      <td>0</td>\n",
       "      <td>0</td>\n",
       "      <td>0</td>\n",
       "      <td>0</td>\n",
       "      <td>0</td>\n",
       "      <td>0</td>\n",
       "      <td>...</td>\n",
       "      <td>0</td>\n",
       "      <td>0</td>\n",
       "      <td>0</td>\n",
       "      <td>0</td>\n",
       "      <td>0</td>\n",
       "      <td>0</td>\n",
       "      <td>0</td>\n",
       "      <td>0</td>\n",
       "      <td>0</td>\n",
       "      <td>0</td>\n",
       "    </tr>\n",
       "  </tbody>\n",
       "</table>\n",
       "<p>5 rows × 784 columns</p>\n",
       "</div>"
      ],
      "text/plain": [
       "   pixel0  pixel1  pixel2  pixel3  pixel4  pixel5  pixel6  pixel7  pixel8  \\\n",
       "0       0       0       0       0       0       0       0       0       0   \n",
       "1       0       0       0       0       0       0       0       0       0   \n",
       "2       0       0       0       0       0       0       0       0       0   \n",
       "3       0       0       0       0       0       0       0       0       0   \n",
       "4       0       0       0       0       0       0       0       0       0   \n",
       "\n",
       "   pixel9  ...  pixel774  pixel775  pixel776  pixel777  pixel778  pixel779  \\\n",
       "0       0  ...         0         0         0         0         0         0   \n",
       "1       0  ...         0         0         0         0         0         0   \n",
       "2       0  ...         0         0         0         0         0         0   \n",
       "3       0  ...         0         0         0         0         0         0   \n",
       "4       0  ...         0         0         0         0         0         0   \n",
       "\n",
       "   pixel780  pixel781  pixel782  pixel783  \n",
       "0         0         0         0         0  \n",
       "1         0         0         0         0  \n",
       "2         0         0         0         0  \n",
       "3         0         0         0         0  \n",
       "4         0         0         0         0  \n",
       "\n",
       "[5 rows x 784 columns]"
      ]
     },
     "metadata": {},
     "output_type": "display_data"
    },
    {
     "data": {
      "text/plain": [
       "0    0\n",
       "1    7\n",
       "2    7\n",
       "3    2\n",
       "4    2\n",
       "Name: label, dtype: int64"
      ]
     },
     "metadata": {},
     "output_type": "display_data"
    }
   ],
   "source": [
    "display(train_X.head())\n",
    "display(train_y.head())\n",
    "display(val_X.head())\n",
    "display(val_y.head())"
   ]
  },
  {
   "cell_type": "markdown",
   "metadata": {},
   "source": [
    "## Visualizing the Dataset\n",
    "\n",
    "Since each row represents a 28 x 28 image flattened into a 1-D array where each pixel value represents the shade of the color of that pixel, we can use functions available in the **matplotlib** package to actually visualize each row as images. Here are a few examples below:"
   ]
  },
  {
   "cell_type": "code",
   "execution_count": 7,
   "metadata": {},
   "outputs": [],
   "source": [
    "def plot_image(row, shape=(28, 28)):\n",
    "    array_row = np.array(row)\n",
    "    reshaped = array_row.reshape(shape)\n",
    "    plt.imshow(reshaped, cmap=\"gray\")\n",
    "    plt.show();"
   ]
  },
  {
   "cell_type": "code",
   "execution_count": 8,
   "metadata": {
    "pycharm": {
     "name": "#%%\n"
    }
   },
   "outputs": [
    {
     "name": "stdout",
     "output_type": "stream",
     "text": [
      "Showing image 0 with truth label: 1\n"
     ]
    },
    {
     "data": {
      "image/png": "[encoded data removed]",
      "text/plain": [
       "<Figure size 432x288 with 1 Axes>"
      ]
     },
     "metadata": {
      "needs_background": "light"
     },
     "output_type": "display_data"
    },
    {
     "name": "stdout",
     "output_type": "stream",
     "text": [
      "Showing image 1 with truth label: 0\n"
     ]
    },
    {
     "data": {
      "image/png": "[encoded data removed]",
      "text/plain": [
       "<Figure size 432x288 with 1 Axes>"
      ]
     },
     "metadata": {
      "needs_background": "light"
     },
     "output_type": "display_data"
    },
    {
     "name": "stdout",
     "output_type": "stream",
     "text": [
      "Showing image 2 with truth label: 1\n"
     ]
    },
    {
     "data": {
      "image/png": "[encoded data removed]",
      "text/plain": [
       "<Figure size 432x288 with 1 Axes>"
      ]
     },
     "metadata": {
      "needs_background": "light"
     },
     "output_type": "display_data"
    },
    {
     "name": "stdout",
     "output_type": "stream",
     "text": [
      "Showing image 3 with truth label: 4\n"
     ]
    },
    {
     "data": {
      "image/png": "[encoded data removed]",
      "text/plain": [
       "<Figure size 432x288 with 1 Axes>"
      ]
     },
     "metadata": {
      "needs_background": "light"
     },
     "output_type": "display_data"
    },
    {
     "name": "stdout",
     "output_type": "stream",
     "text": [
      "Showing image 4 with truth label: 0\n"
     ]
    },
    {
     "data": {
      "image/png": "[encoded data removed]",
      "text/plain": [
       "<Figure size 432x288 with 1 Axes>"
      ]
     },
     "metadata": {
      "needs_background": "light"
     },
     "output_type": "display_data"
    }
   ],
   "source": [
    "for i in range(5):\n",
    "    print(\"Showing image\", i, \"with truth label:\", train_y.iloc[i])\n",
    "    row = train_X.iloc[i]\n",
    "    # Reshape the row into a 28 x 28 matrix\n",
    "    plot_image(row)"
   ]
  },
  {
   "cell_type": "markdown",
   "metadata": {},
   "source": [
    "## Normalization"
   ]
  },
  {
   "cell_type": "code",
   "execution_count": 51,
   "metadata": {},
   "outputs": [],
   "source": [
    "# Since all values range from 0 to 255, try normalizing by dividng every row by 255, the maximum possible number.\n",
    "train_norm_X = train_X / 255\n",
    "val_norm_X = val_X / 255"
   ]
  },
  {
   "cell_type": "markdown",
   "metadata": {
    "pycharm": {
     "name": "#%% md\n"
    }
   },
   "source": [
    "## Supervised Learning"
   ]
  },
  {
   "cell_type": "code",
   "execution_count": 52,
   "metadata": {
    "pycharm": {
     "name": "#%%\n"
    }
   },
   "outputs": [],
   "source": [
    "def calculate_accuracy(predictions, actual):\n",
    "    return np.sum(predictions == actual) / len(actual)"
   ]
  },
  {
   "cell_type": "markdown",
   "metadata": {
    "pycharm": {
     "name": "#%% md\n"
    }
   },
   "source": [
    "### Benchmark Classifier for Comparison: Random Forest"
   ]
  },
  {
   "cell_type": "code",
   "execution_count": 63,
   "metadata": {
    "pycharm": {
     "name": "#%%\n"
    }
   },
   "outputs": [],
   "source": [
    "from sklearn.ensemble import RandomForestClassifier\n",
    "rf = RandomForestClassifier(criterion='entropy', min_samples_split=10)"
   ]
  },
  {
   "cell_type": "code",
   "execution_count": 64,
   "metadata": {},
   "outputs": [
    {
     "data": {
      "text/plain": [
       "RandomForestClassifier(criterion='entropy', min_samples_split=10)"
      ]
     },
     "execution_count": 64,
     "metadata": {},
     "output_type": "execute_result"
    }
   ],
   "source": [
    "rf.fit(train_norm_X, train_y)"
   ]
  },
  {
   "cell_type": "code",
   "execution_count": 65,
   "metadata": {},
   "outputs": [],
   "source": [
    "rf_train_predictions = rf.predict(train_norm_X)\n",
    "rf_val_predictions = rf.predict(val_norm_X)"
   ]
  },
  {
   "cell_type": "code",
   "execution_count": 66,
   "metadata": {},
   "outputs": [
    {
     "data": {
      "text/plain": [
       "array([0, 7, 7, ..., 7, 6, 9])"
      ]
     },
     "execution_count": 66,
     "metadata": {},
     "output_type": "execute_result"
    }
   ],
   "source": [
    "rf_val_predictions"
   ]
  },
  {
   "cell_type": "code",
   "execution_count": 86,
   "metadata": {},
   "outputs": [
    {
     "data": {
      "text/plain": [
       "0.9974107142857143"
      ]
     },
     "execution_count": 86,
     "metadata": {},
     "output_type": "execute_result"
    }
   ],
   "source": [
    "# Training Accuracy\n",
    "calculate_accuracy(rf_train_predictions, train_y)"
   ]
  },
  {
   "cell_type": "code",
   "execution_count": 67,
   "metadata": {
    "pycharm": {
     "name": "#%%\n"
    }
   },
   "outputs": [
    {
     "data": {
      "text/plain": [
       "0.9622619047619048"
      ]
     },
     "execution_count": 67,
     "metadata": {},
     "output_type": "execute_result"
    }
   ],
   "source": [
    "# Validation Accuracy\n",
    "calculate_accuracy(rf_val_predictions, val_y)"
   ]
  },
  {
   "cell_type": "markdown",
   "metadata": {},
   "source": [
    "**Validation Accuracy: 96.3%**"
   ]
  },
  {
   "cell_type": "markdown",
   "metadata": {
    "pycharm": {
     "name": "#%% md\n"
    }
   },
   "source": [
    "#### Misclassification Analysis"
   ]
  },
  {
   "cell_type": "code",
   "execution_count": 68,
   "metadata": {},
   "outputs": [],
   "source": [
    "rf_mistakes_X = val_X[rf_val_predictions != val_y]\n",
    "rf_mistakes_y = val_y[rf_val_predictions != val_y]\n",
    "rf_mistakes_predictions = rf_val_predictions[rf_val_predictions != val_y]"
   ]
  },
  {
   "cell_type": "code",
   "execution_count": 69,
   "metadata": {
    "pycharm": {
     "name": "#%%\n"
    },
    "scrolled": false
   },
   "outputs": [
    {
     "name": "stdout",
     "output_type": "stream",
     "text": [
      "Truth label: 5\n",
      "Predicted label: 3\n"
     ]
    },
    {
     "data": {
      "image/png": "[encoded data removed]",
      "text/plain": [
       "<Figure size 432x288 with 1 Axes>"
      ]
     },
     "metadata": {
      "needs_background": "light"
     },
     "output_type": "display_data"
    },
    {
     "name": "stdout",
     "output_type": "stream",
     "text": [
      "Truth label: 0\n",
      "Predicted label: 6\n"
     ]
    },
    {
     "data": {
      "image/png": "[encoded data removed]",
      "text/plain": [
       "<Figure size 432x288 with 1 Axes>"
      ]
     },
     "metadata": {
      "needs_background": "light"
     },
     "output_type": "display_data"
    },
    {
     "name": "stdout",
     "output_type": "stream",
     "text": [
      "Truth label: 3\n",
      "Predicted label: 7\n"
     ]
    },
    {
     "data": {
      "image/png": "[encoded data removed]",
      "text/plain": [
       "<Figure size 432x288 with 1 Axes>"
      ]
     },
     "metadata": {
      "needs_background": "light"
     },
     "output_type": "display_data"
    },
    {
     "name": "stdout",
     "output_type": "stream",
     "text": [
      "Truth label: 3\n",
      "Predicted label: 7\n"
     ]
    },
    {
     "data": {
      "image/png": "[encoded data removed]",
      "text/plain": [
       "<Figure size 432x288 with 1 Axes>"
      ]
     },
     "metadata": {
      "needs_background": "light"
     },
     "output_type": "display_data"
    },
    {
     "name": "stdout",
     "output_type": "stream",
     "text": [
      "Truth label: 3\n",
      "Predicted label: 2\n"
     ]
    },
    {
     "data": {
      "image/png": "[encoded data removed]",
      "text/plain": [
       "<Figure size 432x288 with 1 Axes>"
      ]
     },
     "metadata": {
      "needs_background": "light"
     },
     "output_type": "display_data"
    },
    {
     "name": "stdout",
     "output_type": "stream",
     "text": [
      "Truth label: 3\n",
      "Predicted label: 5\n"
     ]
    },
    {
     "data": {
      "image/png": "[encoded data removed]",
      "text/plain": [
       "<Figure size 432x288 with 1 Axes>"
      ]
     },
     "metadata": {
      "needs_background": "light"
     },
     "output_type": "display_data"
    },
    {
     "name": "stdout",
     "output_type": "stream",
     "text": [
      "Truth label: 7\n",
      "Predicted label: 9\n"
     ]
    },
    {
     "data": {
      "image/png": "[encoded data removed]",
      "text/plain": [
       "<Figure size 432x288 with 1 Axes>"
      ]
     },
     "metadata": {
      "needs_background": "light"
     },
     "output_type": "display_data"
    },
    {
     "name": "stdout",
     "output_type": "stream",
     "text": [
      "Truth label: 7\n",
      "Predicted label: 2\n"
     ]
    },
    {
     "data": {
      "image/png": "[encoded data removed]",
      "text/plain": [
       "<Figure size 432x288 with 1 Axes>"
      ]
     },
     "metadata": {
      "needs_background": "light"
     },
     "output_type": "display_data"
    },
    {
     "name": "stdout",
     "output_type": "stream",
     "text": [
      "Truth label: 3\n",
      "Predicted label: 7\n"
     ]
    },
    {
     "data": {
      "image/png": "[encoded data removed]",
      "text/plain": [
       "<Figure size 432x288 with 1 Axes>"
      ]
     },
     "metadata": {
      "needs_background": "light"
     },
     "output_type": "display_data"
    },
    {
     "name": "stdout",
     "output_type": "stream",
     "text": [
      "Truth label: 5\n",
      "Predicted label: 6\n"
     ]
    },
    {
     "data": {
      "image/png": "[encoded data removed]",
      "text/plain": [
       "<Figure size 432x288 with 1 Axes>"
      ]
     },
     "metadata": {
      "needs_background": "light"
     },
     "output_type": "display_data"
    }
   ],
   "source": [
    "# Plot some images and compare them to predicted results\n",
    "for i in range(10):\n",
    "    print(\"Truth label:\", rf_mistakes_y.iloc[i])\n",
    "    print(\"Predicted label:\", rf_mistakes_predictions[i])\n",
    "    row = rf_mistakes_X.iloc[i]\n",
    "    # Reshape the row into a 28 x 28 matrix\n",
    "    plot_image(row)"
   ]
  },
  {
   "cell_type": "code",
   "execution_count": 70,
   "metadata": {},
   "outputs": [],
   "source": [
    "from tensorflow.keras import Sequential\n",
    "from tensorflow.keras.layers import Dense\n",
    "from tensorflow.keras.layers import Conv2D, MaxPooling2D, Flatten"
   ]
  },
  {
   "cell_type": "markdown",
   "metadata": {
    "pycharm": {
     "name": "#%% md\n"
    }
   },
   "source": [
    "### Deep Learning Classifier: Feed-Forward Neural Network"
   ]
  },
  {
   "cell_type": "code",
   "execution_count": 71,
   "metadata": {},
   "outputs": [],
   "source": [
    "# Neural Network Initialization\n",
    "\n",
    "ff_model = Sequential([\n",
    "    Dense(1024, input_dim=train_X.shape[1], activation='relu'),\n",
    "    Dense(10, activation='softmax')\n",
    "])"
   ]
  },
  {
   "cell_type": "code",
   "execution_count": 72,
   "metadata": {
    "pycharm": {
     "name": "#%%\n"
    }
   },
   "outputs": [],
   "source": [
    "# Compiling the Network\n",
    "\n",
    "ff_model.compile(loss='sparse_categorical_crossentropy', optimizer='adam', metrics=['accuracy'])"
   ]
  },
  {
   "cell_type": "code",
   "execution_count": 73,
   "metadata": {},
   "outputs": [
    {
     "name": "stdout",
     "output_type": "stream",
     "text": [
      "Epoch 1/200\n",
      "1680/1680 [==============================] - 8s 5ms/step - loss: 0.3704 - accuracy: 0.8865\n",
      "Epoch 2/200\n",
      "1680/1680 [==============================] - 7s 4ms/step - loss: 0.0892 - accuracy: 0.9718\n",
      "Epoch 3/200\n",
      "1680/1680 [==============================] - 7s 4ms/step - loss: 0.0527 - accuracy: 0.9843\n",
      "Epoch 4/200\n",
      "1680/1680 [==============================] - 7s 4ms/step - loss: 0.0325 - accuracy: 0.9900\n",
      "Epoch 5/200\n",
      "1680/1680 [==============================] - 7s 4ms/step - loss: 0.0237 - accuracy: 0.9918\n",
      "Epoch 6/200\n",
      "1680/1680 [==============================] - 7s 4ms/step - loss: 0.0210 - accuracy: 0.9931\n",
      "Epoch 7/200\n",
      "1680/1680 [==============================] - 7s 4ms/step - loss: 0.0164 - accuracy: 0.9945\n",
      "Epoch 8/200\n",
      "1680/1680 [==============================] - 7s 4ms/step - loss: 0.0135 - accuracy: 0.9957\n",
      "Epoch 9/200\n",
      "1680/1680 [==============================] - 7s 4ms/step - loss: 0.0159 - accuracy: 0.9942\n",
      "Epoch 10/200\n",
      "1680/1680 [==============================] - 7s 4ms/step - loss: 0.0080 - accuracy: 0.9975\n",
      "Epoch 11/200\n",
      "1680/1680 [==============================] - 7s 4ms/step - loss: 0.0181 - accuracy: 0.9934\n",
      "Epoch 12/200\n",
      "1680/1680 [==============================] - 7s 4ms/step - loss: 0.0102 - accuracy: 0.9969\n",
      "Epoch 13/200\n",
      "1680/1680 [==============================] - 7s 4ms/step - loss: 0.0110 - accuracy: 0.9969\n",
      "Epoch 14/200\n",
      "1680/1680 [==============================] - 7s 4ms/step - loss: 0.0137 - accuracy: 0.9960\n",
      "Epoch 15/200\n",
      "1680/1680 [==============================] - 8s 5ms/step - loss: 0.0105 - accuracy: 0.9975\n",
      "Epoch 16/200\n",
      "1680/1680 [==============================] - 7s 4ms/step - loss: 0.0074 - accuracy: 0.9980\n",
      "Epoch 17/200\n",
      "1680/1680 [==============================] - 8s 4ms/step - loss: 0.0112 - accuracy: 0.9964\n",
      "Epoch 18/200\n",
      "1680/1680 [==============================] - 7s 4ms/step - loss: 0.0075 - accuracy: 0.9982\n",
      "Epoch 19/200\n",
      "1680/1680 [==============================] - 7s 4ms/step - loss: 0.0067 - accuracy: 0.9981\n",
      "Epoch 20/200\n",
      "1680/1680 [==============================] - 8s 5ms/step - loss: 0.0133 - accuracy: 0.9970\n",
      "Epoch 21/200\n",
      "1680/1680 [==============================] - 8s 5ms/step - loss: 0.0088 - accuracy: 0.9977\n",
      "Epoch 22/200\n",
      "1680/1680 [==============================] - 8s 5ms/step - loss: 0.0055 - accuracy: 0.9986\n",
      "Epoch 23/200\n",
      "1680/1680 [==============================] - 8s 5ms/step - loss: 0.0094 - accuracy: 0.9975\n",
      "Epoch 24/200\n",
      "1680/1680 [==============================] - 7s 4ms/step - loss: 0.0056 - accuracy: 0.9984\n",
      "Epoch 25/200\n",
      "1680/1680 [==============================] - 7s 4ms/step - loss: 0.0063 - accuracy: 0.9985\n",
      "Epoch 26/200\n",
      "1680/1680 [==============================] - 8s 4ms/step - loss: 0.0115 - accuracy: 0.9970\n",
      "Epoch 27/200\n",
      "1680/1680 [==============================] - 8s 4ms/step - loss: 0.0080 - accuracy: 0.9979\n",
      "Epoch 28/200\n",
      "1680/1680 [==============================] - 7s 4ms/step - loss: 0.0069 - accuracy: 0.9980\n",
      "Epoch 29/200\n",
      "1680/1680 [==============================] - 8s 4ms/step - loss: 0.0069 - accuracy: 0.9980\n",
      "Epoch 30/200\n",
      "1680/1680 [==============================] - 8s 4ms/step - loss: 0.0040 - accuracy: 0.9987\n",
      "Epoch 31/200\n",
      "1680/1680 [==============================] - 8s 5ms/step - loss: 0.0076 - accuracy: 0.9984\n",
      "Epoch 32/200\n",
      "1680/1680 [==============================] - 8s 5ms/step - loss: 0.0042 - accuracy: 0.9988\n",
      "Epoch 33/200\n",
      "1680/1680 [==============================] - 8s 5ms/step - loss: 0.0106 - accuracy: 0.9979\n",
      "Epoch 34/200\n",
      "1680/1680 [==============================] - 8s 5ms/step - loss: 0.0034 - accuracy: 0.9990\n",
      "Epoch 35/200\n",
      "1680/1680 [==============================] - 8s 5ms/step - loss: 0.0124 - accuracy: 0.9973\n",
      "Epoch 36/200\n",
      "1680/1680 [==============================] - 8s 5ms/step - loss: 0.0066 - accuracy: 0.9988\n",
      "Epoch 37/200\n",
      "1680/1680 [==============================] - 8s 5ms/step - loss: 0.0019 - accuracy: 0.9997\n",
      "Epoch 38/200\n",
      "1680/1680 [==============================] - 8s 5ms/step - loss: 0.0093 - accuracy: 0.9978\n",
      "Epoch 39/200\n",
      "1680/1680 [==============================] - 8s 5ms/step - loss: 0.0048 - accuracy: 0.9987\n",
      "Epoch 40/200\n",
      "1680/1680 [==============================] - 8s 5ms/step - loss: 0.0058 - accuracy: 0.9987\n",
      "Epoch 41/200\n",
      "1680/1680 [==============================] - 8s 5ms/step - loss: 0.0052 - accuracy: 0.9988\n",
      "Epoch 42/200\n",
      "1680/1680 [==============================] - 8s 5ms/step - loss: 0.0074 - accuracy: 0.9978\n",
      "Epoch 43/200\n",
      "1680/1680 [==============================] - 8s 5ms/step - loss: 0.0061 - accuracy: 0.9991\n",
      "Epoch 44/200\n",
      "1680/1680 [==============================] - 8s 5ms/step - loss: 0.0020 - accuracy: 0.9995\n",
      "Epoch 45/200\n",
      "1680/1680 [==============================] - 8s 5ms/step - loss: 0.0062 - accuracy: 0.9988\n",
      "Epoch 46/200\n",
      "1680/1680 [==============================] - 8s 5ms/step - loss: 0.0066 - accuracy: 0.9983\n",
      "Epoch 47/200\n",
      "1680/1680 [==============================] - 8s 5ms/step - loss: 0.0031 - accuracy: 0.9994\n",
      "Epoch 48/200\n",
      "1680/1680 [==============================] - 8s 5ms/step - loss: 0.0095 - accuracy: 0.9981\n",
      "Epoch 49/200\n",
      "1680/1680 [==============================] - 8s 5ms/step - loss: 0.0055 - accuracy: 0.9988\n",
      "Epoch 50/200\n",
      "1680/1680 [==============================] - 8s 5ms/step - loss: 0.0034 - accuracy: 0.9991\n",
      "Epoch 51/200\n",
      "1680/1680 [==============================] - 8s 5ms/step - loss: 0.0021 - accuracy: 0.9996\n",
      "Epoch 52/200\n",
      "1680/1680 [==============================] - 8s 5ms/step - loss: 0.0092 - accuracy: 0.9982\n",
      "Epoch 53/200\n",
      "1680/1680 [==============================] - 8s 5ms/step - loss: 0.0028 - accuracy: 0.9994\n",
      "Epoch 54/200\n",
      "1680/1680 [==============================] - 7s 4ms/step - loss: 0.0034 - accuracy: 0.9993\n",
      "Epoch 55/200\n",
      "1680/1680 [==============================] - 8s 4ms/step - loss: 0.0059 - accuracy: 0.9992\n",
      "Epoch 56/200\n",
      "1680/1680 [==============================] - 7s 4ms/step - loss: 0.0027 - accuracy: 0.9992\n",
      "Epoch 57/200\n",
      "1680/1680 [==============================] - 7s 4ms/step - loss: 0.0053 - accuracy: 0.9985\n",
      "Epoch 58/200\n",
      "1680/1680 [==============================] - 8s 5ms/step - loss: 0.0046 - accuracy: 0.9988\n",
      "Epoch 59/200\n",
      "1680/1680 [==============================] - 8s 5ms/step - loss: 0.0076 - accuracy: 0.9987\n",
      "Epoch 60/200\n",
      "1680/1680 [==============================] - 8s 5ms/step - loss: 0.0034 - accuracy: 0.9991\n",
      "Epoch 61/200\n",
      "1680/1680 [==============================] - 8s 4ms/step - loss: 0.0087 - accuracy: 0.9984\n",
      "Epoch 62/200\n",
      "1680/1680 [==============================] - 8s 4ms/step - loss: 0.0027 - accuracy: 0.9993\n",
      "Epoch 63/200\n",
      "1680/1680 [==============================] - 8s 4ms/step - loss: 0.0056 - accuracy: 0.9987\n",
      "Epoch 64/200\n",
      "1680/1680 [==============================] - 8s 5ms/step - loss: 0.0028 - accuracy: 0.9992\n",
      "Epoch 65/200\n",
      "1680/1680 [==============================] - 8s 5ms/step - loss: 0.0022 - accuracy: 0.9996\n",
      "Epoch 66/200\n",
      "1680/1680 [==============================] - 8s 5ms/step - loss: 0.0124 - accuracy: 0.9982\n",
      "Epoch 67/200\n",
      "1680/1680 [==============================] - 8s 5ms/step - loss: 0.0070 - accuracy: 0.9987\n",
      "Epoch 68/200\n",
      "1680/1680 [==============================] - 8s 5ms/step - loss: 0.0027 - accuracy: 0.9993\n",
      "Epoch 69/200\n",
      "1680/1680 [==============================] - 8s 5ms/step - loss: 0.0030 - accuracy: 0.9995\n",
      "Epoch 70/200\n",
      "1680/1680 [==============================] - 8s 5ms/step - loss: 0.0083 - accuracy: 0.9982\n",
      "Epoch 71/200\n",
      "1680/1680 [==============================] - 8s 5ms/step - loss: 7.1287e-04 - accuracy: 0.9997\n",
      "Epoch 72/200\n",
      "1680/1680 [==============================] - 8s 5ms/step - loss: 0.0075 - accuracy: 0.9986\n",
      "Epoch 73/200\n",
      "1680/1680 [==============================] - 8s 5ms/step - loss: 0.0050 - accuracy: 0.9993\n",
      "Epoch 74/200\n",
      "1680/1680 [==============================] - 9s 5ms/step - loss: 0.0056 - accuracy: 0.9993\n",
      "Epoch 75/200\n",
      "1680/1680 [==============================] - 9s 5ms/step - loss: 0.0035 - accuracy: 0.9992\n",
      "Epoch 76/200\n",
      "1680/1680 [==============================] - 8s 5ms/step - loss: 0.0046 - accuracy: 0.9991\n",
      "Epoch 77/200\n",
      "1680/1680 [==============================] - 8s 5ms/step - loss: 0.0031 - accuracy: 0.9995\n",
      "Epoch 78/200\n",
      "1680/1680 [==============================] - 8s 5ms/step - loss: 0.0039 - accuracy: 0.9993\n",
      "Epoch 79/200\n"
     ]
    },
    {
     "name": "stdout",
     "output_type": "stream",
     "text": [
      "1680/1680 [==============================] - 8s 5ms/step - loss: 0.0020 - accuracy: 0.9996\n",
      "Epoch 80/200\n",
      "1680/1680 [==============================] - 8s 5ms/step - loss: 0.0073 - accuracy: 0.9988\n",
      "Epoch 81/200\n",
      "1680/1680 [==============================] - 8s 5ms/step - loss: 0.0051 - accuracy: 0.9990\n",
      "Epoch 82/200\n",
      "1680/1680 [==============================] - 9s 5ms/step - loss: 0.0054 - accuracy: 0.9993\n",
      "Epoch 83/200\n",
      "1680/1680 [==============================] - 9s 5ms/step - loss: 0.0023 - accuracy: 0.9995\n",
      "Epoch 84/200\n",
      "1680/1680 [==============================] - 9s 6ms/step - loss: 0.0012 - accuracy: 0.9998\n",
      "Epoch 85/200\n",
      "1680/1680 [==============================] - 9s 6ms/step - loss: 0.0104 - accuracy: 0.9985\n",
      "Epoch 86/200\n",
      "1680/1680 [==============================] - 10s 6ms/step - loss: 0.0021 - accuracy: 0.9996\n",
      "Epoch 87/200\n",
      "1680/1680 [==============================] - 10s 6ms/step - loss: 0.0056 - accuracy: 0.9996\n",
      "Epoch 88/200\n",
      "1680/1680 [==============================] - 9s 6ms/step - loss: 0.0057 - accuracy: 0.9989\n",
      "Epoch 89/200\n",
      "1680/1680 [==============================] - 9s 6ms/step - loss: 0.0018 - accuracy: 0.9993\n",
      "Epoch 90/200\n",
      "1680/1680 [==============================] - 10s 6ms/step - loss: 0.0020 - accuracy: 0.9995\n",
      "Epoch 91/200\n",
      "1680/1680 [==============================] - 9s 6ms/step - loss: 0.0076 - accuracy: 0.9994\n",
      "Epoch 92/200\n",
      "1680/1680 [==============================] - 9s 6ms/step - loss: 0.0029 - accuracy: 0.9995\n",
      "Epoch 93/200\n",
      "1680/1680 [==============================] - 9s 6ms/step - loss: 0.0013 - accuracy: 0.9997\n",
      "Epoch 94/200\n",
      "1680/1680 [==============================] - 9s 6ms/step - loss: 0.0030 - accuracy: 0.9995\n",
      "Epoch 95/200\n",
      "1680/1680 [==============================] - 9s 6ms/step - loss: 0.0024 - accuracy: 0.9997\n",
      "Epoch 96/200\n",
      "1680/1680 [==============================] - 10s 6ms/step - loss: 0.0015 - accuracy: 0.9996\n",
      "Epoch 97/200\n",
      "1680/1680 [==============================] - 10s 6ms/step - loss: 0.0027 - accuracy: 0.9997\n",
      "Epoch 98/200\n",
      "1680/1680 [==============================] - 10s 6ms/step - loss: 0.0020 - accuracy: 0.9994\n",
      "Epoch 99/200\n",
      "1680/1680 [==============================] - 10s 6ms/step - loss: 0.0037 - accuracy: 0.9995\n",
      "Epoch 100/200\n",
      "1680/1680 [==============================] - 10s 6ms/step - loss: 1.6235e-06 - accuracy: 1.0000\n",
      "Epoch 101/200\n",
      "1680/1680 [==============================] - 11s 6ms/step - loss: 3.9700e-08 - accuracy: 1.0000\n",
      "Epoch 102/200\n",
      "1680/1680 [==============================] - 11s 7ms/step - loss: 2.2448e-08 - accuracy: 1.0000\n",
      "Epoch 103/200\n",
      "1680/1680 [==============================] - 11s 7ms/step - loss: 2.1399e-08 - accuracy: 1.0000\n",
      "Epoch 104/200\n",
      "1680/1680 [==============================] - 11s 7ms/step - loss: 1.0008e-08 - accuracy: 1.0000\n",
      "Epoch 105/200\n",
      "1680/1680 [==============================] - 11s 7ms/step - loss: 5.1961e-09 - accuracy: 1.0000\n",
      "Epoch 106/200\n",
      "1680/1680 [==============================] - 11s 7ms/step - loss: 4.0890e-09 - accuracy: 1.0000\n",
      "Epoch 107/200\n",
      "1680/1680 [==============================] - 11s 7ms/step - loss: 2.4216e-09 - accuracy: 1.0000\n",
      "Epoch 108/200\n",
      "1680/1680 [==============================] - 12s 7ms/step - loss: 1.2765e-09 - accuracy: 1.0000\n",
      "Epoch 109/200\n",
      "1680/1680 [==============================] - 12s 7ms/step - loss: 7.6165e-10 - accuracy: 1.0000\n",
      "Epoch 110/200\n",
      "1680/1680 [==============================] - 12s 7ms/step - loss: 6.2621e-10 - accuracy: 1.0000\n",
      "Epoch 111/200\n",
      "1680/1680 [==============================] - 12s 7ms/step - loss: 2.8936e-10 - accuracy: 1.0000\n",
      "Epoch 112/200\n",
      "1680/1680 [==============================] - 11s 7ms/step - loss: 1.7325e-10 - accuracy: 1.0000\n",
      "Epoch 113/200\n",
      "1680/1680 [==============================] - 11s 7ms/step - loss: 1.4551e-10 - accuracy: 1.0000\n",
      "Epoch 114/200\n",
      "1680/1680 [==============================] - 11s 7ms/step - loss: 1.2443e-10 - accuracy: 1.0000\n",
      "Epoch 115/200\n",
      "1680/1680 [==============================] - 11s 7ms/step - loss: 8.2985e-11 - accuracy: 1.0000\n",
      "Epoch 116/200\n",
      "1680/1680 [==============================] - 11s 7ms/step - loss: 5.5021e-11 - accuracy: 1.0000\n",
      "Epoch 117/200\n",
      "1680/1680 [==============================] - 11s 6ms/step - loss: 4.9255e-11 - accuracy: 1.0000\n",
      "Epoch 118/200\n",
      "1680/1680 [==============================] - 11s 7ms/step - loss: 3.4009e-11 - accuracy: 1.0000\n",
      "Epoch 119/200\n",
      "1680/1680 [==============================] - 11s 7ms/step - loss: 1.9822e-11 - accuracy: 1.0000\n",
      "Epoch 120/200\n",
      "1680/1680 [==============================] - 12s 7ms/step - loss: 1.7024e-11 - accuracy: 1.0000\n",
      "Epoch 121/200\n",
      "1680/1680 [==============================] - 12s 7ms/step - loss: 1.8256e-11 - accuracy: 1.0000\n",
      "Epoch 122/200\n",
      "1680/1680 [==============================] - 12s 7ms/step - loss: 6.3833e-14 - accuracy: 1.0000\n",
      "Epoch 123/200\n",
      "1680/1680 [==============================] - 12s 7ms/step - loss: 0.0000e+00 - accuracy: 1.0000\n",
      "Epoch 124/200\n",
      "1680/1680 [==============================] - 12s 7ms/step - loss: 0.0000e+00 - accuracy: 1.0000\n",
      "Epoch 125/200\n",
      "1680/1680 [==============================] - 12s 7ms/step - loss: 0.0000e+00 - accuracy: 1.0000\n",
      "Epoch 126/200\n",
      "1680/1680 [==============================] - 12s 7ms/step - loss: 0.0000e+00 - accuracy: 1.0000\n",
      "Epoch 127/200\n",
      "1680/1680 [==============================] - 12s 7ms/step - loss: 9.1855e-14 - accuracy: 1.0000\n",
      "Epoch 128/200\n",
      "1680/1680 [==============================] - 12s 7ms/step - loss: 0.0000e+00 - accuracy: 1.0000\n",
      "Epoch 129/200\n",
      "1680/1680 [==============================] - 12s 7ms/step - loss: 0.0000e+00 - accuracy: 1.0000\n",
      "Epoch 130/200\n",
      "1680/1680 [==============================] - 12s 7ms/step - loss: 0.0000e+00 - accuracy: 1.0000\n",
      "Epoch 131/200\n",
      "1680/1680 [==============================] - 12s 7ms/step - loss: 0.0000e+00 - accuracy: 1.0000\n",
      "Epoch 132/200\n",
      "1680/1680 [==============================] - 12s 7ms/step - loss: 0.0000e+00 - accuracy: 1.0000\n",
      "Epoch 133/200\n",
      "1680/1680 [==============================] - 12s 7ms/step - loss: 0.0000e+00 - accuracy: 1.0000\n",
      "Epoch 134/200\n",
      "1680/1680 [==============================] - 12s 7ms/step - loss: 0.0000e+00 - accuracy: 1.0000\n",
      "Epoch 135/200\n",
      "1680/1680 [==============================] - 12s 7ms/step - loss: 0.0000e+00 - accuracy: 1.0000\n",
      "Epoch 136/200\n",
      "1680/1680 [==============================] - 12s 7ms/step - loss: 0.0000e+00 - accuracy: 1.0000\n",
      "Epoch 137/200\n",
      "1680/1680 [==============================] - 12s 7ms/step - loss: 0.0000e+00 - accuracy: 1.0000\n",
      "Epoch 138/200\n",
      "1680/1680 [==============================] - 12s 7ms/step - loss: 0.0000e+00 - accuracy: 1.0000\n",
      "Epoch 139/200\n",
      "1680/1680 [==============================] - 12s 7ms/step - loss: 0.0000e+00 - accuracy: 1.0000\n",
      "Epoch 140/200\n",
      "1680/1680 [==============================] - 12s 7ms/step - loss: 0.0000e+00 - accuracy: 1.0000\n",
      "Epoch 141/200\n",
      "1680/1680 [==============================] - 12s 7ms/step - loss: 0.0000e+00 - accuracy: 1.0000\n",
      "Epoch 142/200\n",
      "1680/1680 [==============================] - 12s 7ms/step - loss: 0.0000e+00 - accuracy: 1.0000\n",
      "Epoch 143/200\n",
      "1680/1680 [==============================] - 11s 7ms/step - loss: 0.0000e+00 - accuracy: 1.0000\n",
      "Epoch 144/200\n",
      "1680/1680 [==============================] - 11s 7ms/step - loss: 0.0000e+00 - accuracy: 1.0000\n",
      "Epoch 145/200\n",
      "1680/1680 [==============================] - 11s 7ms/step - loss: 0.0000e+00 - accuracy: 1.0000\n",
      "Epoch 146/200\n",
      "1680/1680 [==============================] - 11s 7ms/step - loss: 0.0000e+00 - accuracy: 1.0000\n",
      "Epoch 147/200\n",
      "1680/1680 [==============================] - 11s 6ms/step - loss: 0.0000e+00 - accuracy: 1.0000\n",
      "Epoch 148/200\n",
      "1680/1680 [==============================] - 11s 6ms/step - loss: 0.0000e+00 - accuracy: 1.0000\n",
      "Epoch 149/200\n",
      "1680/1680 [==============================] - 11s 7ms/step - loss: 0.0000e+00 - accuracy: 1.0000\n",
      "Epoch 150/200\n",
      "1680/1680 [==============================] - 11s 6ms/step - loss: 0.0000e+00 - accuracy: 1.0000\n",
      "Epoch 151/200\n",
      "1680/1680 [==============================] - 11s 6ms/step - loss: 0.0000e+00 - accuracy: 1.0000\n",
      "Epoch 152/200\n",
      "1680/1680 [==============================] - 11s 7ms/step - loss: 0.0000e+00 - accuracy: 1.0000\n",
      "Epoch 153/200\n",
      "1680/1680 [==============================] - 11s 7ms/step - loss: 0.0000e+00 - accuracy: 1.0000\n",
      "Epoch 154/200\n"
     ]
    },
    {
     "name": "stdout",
     "output_type": "stream",
     "text": [
      "1680/1680 [==============================] - 11s 6ms/step - loss: 0.0000e+00 - accuracy: 1.0000\n",
      "Epoch 155/200\n",
      "1680/1680 [==============================] - 11s 6ms/step - loss: 0.0000e+00 - accuracy: 1.0000\n",
      "Epoch 156/200\n",
      "1680/1680 [==============================] - 11s 6ms/step - loss: 0.0000e+00 - accuracy: 1.0000\n",
      "Epoch 157/200\n",
      "1680/1680 [==============================] - 11s 6ms/step - loss: 0.0000e+00 - accuracy: 1.0000\n",
      "Epoch 158/200\n",
      "1680/1680 [==============================] - 10s 6ms/step - loss: 0.0000e+00 - accuracy: 1.0000\n",
      "Epoch 159/200\n",
      "1680/1680 [==============================] - 10s 6ms/step - loss: 0.0000e+00 - accuracy: 1.0000\n",
      "Epoch 160/200\n",
      "1680/1680 [==============================] - 10s 6ms/step - loss: 0.0000e+00 - accuracy: 1.0000\n",
      "Epoch 161/200\n",
      "1680/1680 [==============================] - 10s 6ms/step - loss: 0.0000e+00 - accuracy: 1.0000\n",
      "Epoch 162/200\n",
      "1680/1680 [==============================] - 10s 6ms/step - loss: 0.0000e+00 - accuracy: 1.0000\n",
      "Epoch 163/200\n",
      "1680/1680 [==============================] - 10s 6ms/step - loss: 0.0000e+00 - accuracy: 1.0000\n",
      "Epoch 164/200\n",
      "1680/1680 [==============================] - 10s 6ms/step - loss: 0.0000e+00 - accuracy: 1.0000\n",
      "Epoch 165/200\n",
      "1680/1680 [==============================] - 10s 6ms/step - loss: 0.0000e+00 - accuracy: 1.0000\n",
      "Epoch 166/200\n",
      "1680/1680 [==============================] - 10s 6ms/step - loss: 0.0000e+00 - accuracy: 1.0000\n",
      "Epoch 167/200\n",
      "1680/1680 [==============================] - 10s 6ms/step - loss: 0.0000e+00 - accuracy: 1.0000\n",
      "Epoch 168/200\n",
      "1680/1680 [==============================] - 10s 6ms/step - loss: 0.0000e+00 - accuracy: 1.0000\n",
      "Epoch 169/200\n",
      "1680/1680 [==============================] - 10s 6ms/step - loss: 0.0000e+00 - accuracy: 1.0000\n",
      "Epoch 170/200\n",
      "1680/1680 [==============================] - 10s 6ms/step - loss: 0.0000e+00 - accuracy: 1.0000\n",
      "Epoch 171/200\n",
      "1680/1680 [==============================] - 10s 6ms/step - loss: 0.0000e+00 - accuracy: 1.0000\n",
      "Epoch 172/200\n",
      "1680/1680 [==============================] - 10s 6ms/step - loss: 0.0000e+00 - accuracy: 1.0000\n",
      "Epoch 173/200\n",
      "1680/1680 [==============================] - 10s 6ms/step - loss: 0.0000e+00 - accuracy: 1.0000\n",
      "Epoch 174/200\n",
      "1680/1680 [==============================] - 10s 6ms/step - loss: 0.0000e+00 - accuracy: 1.0000\n",
      "Epoch 175/200\n",
      "1680/1680 [==============================] - 10s 6ms/step - loss: 0.0000e+00 - accuracy: 1.0000\n",
      "Epoch 176/200\n",
      "1680/1680 [==============================] - 10s 6ms/step - loss: 0.0000e+00 - accuracy: 1.0000\n",
      "Epoch 177/200\n",
      "1680/1680 [==============================] - 10s 6ms/step - loss: 0.0000e+00 - accuracy: 1.0000\n",
      "Epoch 178/200\n",
      "1680/1680 [==============================] - 10s 6ms/step - loss: 0.0000e+00 - accuracy: 1.0000\n",
      "Epoch 179/200\n",
      "1680/1680 [==============================] - 10s 6ms/step - loss: 0.0000e+00 - accuracy: 1.0000\n",
      "Epoch 180/200\n",
      "1680/1680 [==============================] - 10s 6ms/step - loss: 0.0000e+00 - accuracy: 1.0000\n",
      "Epoch 181/200\n",
      "1680/1680 [==============================] - 10s 6ms/step - loss: 0.0000e+00 - accuracy: 1.0000\n",
      "Epoch 182/200\n",
      "1680/1680 [==============================] - 10s 6ms/step - loss: 0.0000e+00 - accuracy: 1.0000\n",
      "Epoch 183/200\n",
      "1680/1680 [==============================] - 10s 6ms/step - loss: 0.0000e+00 - accuracy: 1.0000\n",
      "Epoch 184/200\n",
      "1680/1680 [==============================] - 10s 6ms/step - loss: 0.0000e+00 - accuracy: 1.0000\n",
      "Epoch 185/200\n",
      "1680/1680 [==============================] - 10s 6ms/step - loss: 0.0000e+00 - accuracy: 1.0000\n",
      "Epoch 186/200\n",
      "1680/1680 [==============================] - 10s 6ms/step - loss: 0.0000e+00 - accuracy: 1.0000\n",
      "Epoch 187/200\n",
      "1680/1680 [==============================] - 10s 6ms/step - loss: 0.0000e+00 - accuracy: 1.0000\n",
      "Epoch 188/200\n",
      "1680/1680 [==============================] - 10s 6ms/step - loss: 0.0000e+00 - accuracy: 1.0000\n",
      "Epoch 189/200\n",
      "1680/1680 [==============================] - 10s 6ms/step - loss: 0.0000e+00 - accuracy: 1.0000\n",
      "Epoch 190/200\n",
      "1680/1680 [==============================] - 10s 6ms/step - loss: 0.0000e+00 - accuracy: 1.0000\n",
      "Epoch 191/200\n",
      "1680/1680 [==============================] - 10s 6ms/step - loss: 0.0000e+00 - accuracy: 1.0000\n",
      "Epoch 192/200\n",
      "1680/1680 [==============================] - 10s 6ms/step - loss: 0.0000e+00 - accuracy: 1.0000\n",
      "Epoch 193/200\n",
      "1680/1680 [==============================] - 10s 6ms/step - loss: 0.0000e+00 - accuracy: 1.0000\n",
      "Epoch 194/200\n",
      "1680/1680 [==============================] - 10s 6ms/step - loss: 0.0000e+00 - accuracy: 1.0000\n",
      "Epoch 195/200\n",
      "1680/1680 [==============================] - 10s 6ms/step - loss: 0.0000e+00 - accuracy: 1.0000\n",
      "Epoch 196/200\n",
      "1680/1680 [==============================] - 10s 6ms/step - loss: 0.0000e+00 - accuracy: 1.0000\n",
      "Epoch 197/200\n",
      "1680/1680 [==============================] - 10s 6ms/step - loss: 0.0000e+00 - accuracy: 1.0000\n",
      "Epoch 198/200\n",
      "1680/1680 [==============================] - 10s 6ms/step - loss: 0.0000e+00 - accuracy: 1.0000\n",
      "Epoch 199/200\n",
      "1680/1680 [==============================] - 10s 6ms/step - loss: 0.0000e+00 - accuracy: 1.0000\n",
      "Epoch 200/200\n",
      "1680/1680 [==============================] - 10s 6ms/step - loss: 0.0000e+00 - accuracy: 1.0000\n"
     ]
    },
    {
     "data": {
      "text/plain": [
       "<tensorflow.python.keras.callbacks.History at 0x15b3165e0>"
      ]
     },
     "execution_count": 73,
     "metadata": {},
     "output_type": "execute_result"
    }
   ],
   "source": [
    "# Fitting and Evaluating the Network\n",
    "\n",
    "ff_model.fit(train_norm_X, train_y, epochs=200, batch_size=20)"
   ]
  },
  {
   "cell_type": "code",
   "execution_count": 74,
   "metadata": {
    "pycharm": {
     "name": "#%%\n"
    }
   },
   "outputs": [
    {
     "name": "stdout",
     "output_type": "stream",
     "text": [
      "263/263 [==============================] - 1s 1ms/step - loss: 0.3997 - accuracy: 0.9815\n",
      "Feed Forward Model Accuracy: 0.9815475940704346\n"
     ]
    }
   ],
   "source": [
    "accuracy = ff_model.evaluate(val_norm_X, val_y)[1]\n",
    "print(\"Feed Forward Model Accuracy:\", accuracy)"
   ]
  },
  {
   "cell_type": "markdown",
   "metadata": {},
   "source": [
    "**Validation Accuracy: 98.2%**"
   ]
  },
  {
   "cell_type": "markdown",
   "metadata": {},
   "source": [
    "### Deep Learning Classifier: Convolutional Neural Network"
   ]
  },
  {
   "cell_type": "code",
   "execution_count": 76,
   "metadata": {
    "pycharm": {
     "name": "#%%\n"
    }
   },
   "outputs": [],
   "source": [
    "# Building the CNN\n",
    "\n",
    "image_dim = int(np.sqrt(train_X.shape[1]))\n",
    "\n",
    "cnn_model = Sequential([\n",
    "    # First convolutional layer\n",
    "    Conv2D(32, kernel_size=3, activation='relu', input_shape=(image_dim, image_dim, 1)),\n",
    "    MaxPooling2D(pool_size=2, strides=2),\n",
    "    \n",
    "    # Second convolutional layer\n",
    "    Conv2D(64, kernel_size=3, activation='relu'),\n",
    "    MaxPooling2D(pool_size=2, strides=2),\n",
    "    \n",
    "    # Fully Connected Classifier\n",
    "    Flatten(),\n",
    "    Dense(1024, activation='relu'),\n",
    "    Dense(10, activation='softmax')\n",
    "])"
   ]
  },
  {
   "cell_type": "code",
   "execution_count": 77,
   "metadata": {
    "pycharm": {
     "name": "#%%\n"
    }
   },
   "outputs": [],
   "source": [
    "# Compiling the Network\n",
    "\n",
    "cnn_model.compile(loss='sparse_categorical_crossentropy', optimizer='adam', metrics=['accuracy'])"
   ]
  },
  {
   "cell_type": "code",
   "execution_count": 78,
   "metadata": {
    "pycharm": {
     "name": "#%%\n"
    },
    "scrolled": true
   },
   "outputs": [
    {
     "name": "stdout",
     "output_type": "stream",
     "text": [
      "Model: \"sequential_7\"\n",
      "_________________________________________________________________\n",
      "Layer (type)                 Output Shape              Param #   \n",
      "=================================================================\n",
      "conv2d_12 (Conv2D)           (None, 26, 26, 32)        320       \n",
      "_________________________________________________________________\n",
      "max_pooling2d_12 (MaxPooling (None, 13, 13, 32)        0         \n",
      "_________________________________________________________________\n",
      "conv2d_13 (Conv2D)           (None, 11, 11, 64)        18496     \n",
      "_________________________________________________________________\n",
      "max_pooling2d_13 (MaxPooling (None, 5, 5, 64)          0         \n",
      "_________________________________________________________________\n",
      "flatten_6 (Flatten)          (None, 1600)              0         \n",
      "_________________________________________________________________\n",
      "dense_14 (Dense)             (None, 1024)              1639424   \n",
      "_________________________________________________________________\n",
      "dense_15 (Dense)             (None, 10)                10250     \n",
      "=================================================================\n",
      "Total params: 1,668,490\n",
      "Trainable params: 1,668,490\n",
      "Non-trainable params: 0\n",
      "_________________________________________________________________\n"
     ]
    }
   ],
   "source": [
    "cnn_model.summary()"
   ]
  },
  {
   "cell_type": "code",
   "execution_count": 79,
   "metadata": {
    "pycharm": {
     "name": "#%%\n"
    }
   },
   "outputs": [],
   "source": [
    "train_X_cnn = np.array(train_norm_X).reshape(len(train_norm_X), image_dim, image_dim, 1)\n",
    "train_y_cnn = np.array(train_y)\n",
    "val_X_cnn = np.array(val_norm_X).reshape(len(val_norm_X), image_dim, image_dim, 1)\n",
    "val_y_cnn = np.array(val_y)"
   ]
  },
  {
   "cell_type": "code",
   "execution_count": 80,
   "metadata": {
    "scrolled": true
   },
   "outputs": [
    {
     "name": "stdout",
     "output_type": "stream",
     "text": [
      "Epoch 1/100\n",
      "1680/1680 [==============================] - 38s 22ms/step - loss: 0.2805 - accuracy: 0.9104\n",
      "Epoch 2/100\n",
      "1680/1680 [==============================] - 42s 25ms/step - loss: 0.0449 - accuracy: 0.9857\n",
      "Epoch 3/100\n",
      "1680/1680 [==============================] - 46s 27ms/step - loss: 0.0262 - accuracy: 0.9916\n",
      "Epoch 4/100\n",
      "1680/1680 [==============================] - 47s 28ms/step - loss: 0.0173 - accuracy: 0.9945\n",
      "Epoch 5/100\n",
      "1680/1680 [==============================] - 47s 28ms/step - loss: 0.0137 - accuracy: 0.9961\n",
      "Epoch 6/100\n",
      "1680/1680 [==============================] - 45s 27ms/step - loss: 0.0106 - accuracy: 0.9964\n",
      "Epoch 7/100\n",
      "1680/1680 [==============================] - 45s 26ms/step - loss: 0.0076 - accuracy: 0.9979\n",
      "Epoch 8/100\n",
      "1680/1680 [==============================] - 45s 27ms/step - loss: 0.0083 - accuracy: 0.9973\n",
      "Epoch 9/100\n",
      "1680/1680 [==============================] - 45s 27ms/step - loss: 0.0082 - accuracy: 0.9976\n",
      "Epoch 10/100\n",
      "1680/1680 [==============================] - 43s 26ms/step - loss: 0.0067 - accuracy: 0.9979\n",
      "Epoch 11/100\n",
      "1680/1680 [==============================] - 43s 26ms/step - loss: 0.0099 - accuracy: 0.9969\n",
      "Epoch 12/100\n",
      "1680/1680 [==============================] - 45s 27ms/step - loss: 0.0049 - accuracy: 0.9984\n",
      "Epoch 13/100\n",
      "1680/1680 [==============================] - 44s 26ms/step - loss: 0.0056 - accuracy: 0.9984\n",
      "Epoch 14/100\n",
      "1680/1680 [==============================] - 42s 25ms/step - loss: 0.0072 - accuracy: 0.9982\n",
      "Epoch 15/100\n",
      "1680/1680 [==============================] - 42s 25ms/step - loss: 0.0048 - accuracy: 0.9985\n",
      "Epoch 16/100\n",
      "1680/1680 [==============================] - 39s 23ms/step - loss: 0.0042 - accuracy: 0.9990\n",
      "Epoch 17/100\n",
      "1680/1680 [==============================] - 35s 21ms/step - loss: 0.0025 - accuracy: 0.9991\n",
      "Epoch 18/100\n",
      "1680/1680 [==============================] - 35s 21ms/step - loss: 0.0067 - accuracy: 0.9981\n",
      "Epoch 19/100\n",
      "1680/1680 [==============================] - 35s 21ms/step - loss: 0.0039 - accuracy: 0.9988\n",
      "Epoch 20/100\n",
      "1680/1680 [==============================] - 34s 21ms/step - loss: 0.0033 - accuracy: 0.9993\n",
      "Epoch 21/100\n",
      "1680/1680 [==============================] - 34s 20ms/step - loss: 0.0036 - accuracy: 0.9988\n",
      "Epoch 22/100\n",
      "1680/1680 [==============================] - 35s 21ms/step - loss: 0.0033 - accuracy: 0.9994\n",
      "Epoch 23/100\n",
      "1680/1680 [==============================] - 34s 20ms/step - loss: 0.0054 - accuracy: 0.9990\n",
      "Epoch 24/100\n",
      "1680/1680 [==============================] - 34s 20ms/step - loss: 0.0028 - accuracy: 0.9991\n",
      "Epoch 25/100\n",
      "1680/1680 [==============================] - 34s 20ms/step - loss: 0.0015 - accuracy: 0.9995\n",
      "Epoch 26/100\n",
      "1680/1680 [==============================] - 33s 20ms/step - loss: 0.0086 - accuracy: 0.9989\n",
      "Epoch 27/100\n",
      "1680/1680 [==============================] - 35s 21ms/step - loss: 0.0014 - accuracy: 0.9998\n",
      "Epoch 28/100\n",
      "1680/1680 [==============================] - 35s 21ms/step - loss: 0.0096 - accuracy: 0.9976\n",
      "Epoch 29/100\n",
      "1680/1680 [==============================] - 34s 20ms/step - loss: 8.2788e-04 - accuracy: 0.9999\n",
      "Epoch 30/100\n",
      "1680/1680 [==============================] - 36s 21ms/step - loss: 0.0044 - accuracy: 0.9988\n",
      "Epoch 31/100\n",
      "1680/1680 [==============================] - 38s 22ms/step - loss: 0.0035 - accuracy: 0.9991\n",
      "Epoch 32/100\n",
      "1680/1680 [==============================] - 37s 22ms/step - loss: 0.0067 - accuracy: 0.9988\n",
      "Epoch 33/100\n",
      "1680/1680 [==============================] - 35s 21ms/step - loss: 0.0043 - accuracy: 0.9992\n",
      "Epoch 34/100\n",
      "1680/1680 [==============================] - 34s 21ms/step - loss: 8.6736e-05 - accuracy: 1.0000\n",
      "Epoch 35/100\n",
      "1680/1680 [==============================] - 36s 21ms/step - loss: 0.0073 - accuracy: 0.9987\n",
      "Epoch 36/100\n",
      "1680/1680 [==============================] - 37s 22ms/step - loss: 5.5237e-04 - accuracy: 0.9998\n",
      "Epoch 37/100\n",
      "1680/1680 [==============================] - 37s 22ms/step - loss: 0.0045 - accuracy: 0.9989\n",
      "Epoch 38/100\n",
      "1680/1680 [==============================] - 37s 22ms/step - loss: 0.0026 - accuracy: 0.9995\n",
      "Epoch 39/100\n",
      "1680/1680 [==============================] - 37s 22ms/step - loss: 0.0033 - accuracy: 0.9995\n",
      "Epoch 40/100\n",
      "1680/1680 [==============================] - 37s 22ms/step - loss: 0.0049 - accuracy: 0.9991\n",
      "Epoch 41/100\n",
      "1680/1680 [==============================] - 35s 21ms/step - loss: 1.4699e-04 - accuracy: 0.9999\n",
      "Epoch 42/100\n",
      "1680/1680 [==============================] - 37s 22ms/step - loss: 0.0032 - accuracy: 0.9997\n",
      "Epoch 43/100\n",
      "1680/1680 [==============================] - 37s 22ms/step - loss: 0.0023 - accuracy: 0.9995\n",
      "Epoch 44/100\n",
      "1680/1680 [==============================] - 37s 22ms/step - loss: 0.0045 - accuracy: 0.9994\n",
      "Epoch 45/100\n",
      "1680/1680 [==============================] - 38s 23ms/step - loss: 0.0015 - accuracy: 0.9997\n",
      "Epoch 46/100\n",
      "1680/1680 [==============================] - 37s 22ms/step - loss: 0.0024 - accuracy: 0.9996\n",
      "Epoch 47/100\n",
      "1680/1680 [==============================] - 36s 21ms/step - loss: 0.0050 - accuracy: 0.9992\n",
      "Epoch 48/100\n",
      "1680/1680 [==============================] - 39s 23ms/step - loss: 0.0036 - accuracy: 0.9996\n",
      "Epoch 49/100\n",
      "1680/1680 [==============================] - 41s 24ms/step - loss: 0.0025 - accuracy: 0.9995\n",
      "Epoch 50/100\n",
      "1680/1680 [==============================] - 42s 25ms/step - loss: 0.0068 - accuracy: 0.9990\n",
      "Epoch 51/100\n",
      "1680/1680 [==============================] - 42s 25ms/step - loss: 0.0023 - accuracy: 0.9995\n",
      "Epoch 52/100\n",
      "1680/1680 [==============================] - 41s 25ms/step - loss: 0.0018 - accuracy: 0.9996\n",
      "Epoch 53/100\n",
      "1680/1680 [==============================] - 41s 24ms/step - loss: 0.0060 - accuracy: 0.9992\n",
      "Epoch 54/100\n",
      "1680/1680 [==============================] - 41s 24ms/step - loss: 0.0016 - accuracy: 0.9997\n",
      "Epoch 55/100\n",
      "1680/1680 [==============================] - 40s 24ms/step - loss: 3.4232e-05 - accuracy: 1.0000\n",
      "Epoch 56/100\n",
      "1680/1680 [==============================] - 40s 24ms/step - loss: 0.0078 - accuracy: 0.9990\n",
      "Epoch 57/100\n",
      "1680/1680 [==============================] - 42s 25ms/step - loss: 3.4807e-04 - accuracy: 0.9999\n",
      "Epoch 58/100\n",
      "1680/1680 [==============================] - 41s 24ms/step - loss: 0.0011 - accuracy: 0.9997\n",
      "Epoch 59/100\n",
      "1680/1680 [==============================] - 41s 24ms/step - loss: 0.0012 - accuracy: 0.9999\n",
      "Epoch 60/100\n",
      "1680/1680 [==============================] - 40s 24ms/step - loss: 0.0052 - accuracy: 0.9992\n",
      "Epoch 61/100\n",
      "1680/1680 [==============================] - 40s 24ms/step - loss: 0.0021 - accuracy: 0.9996\n",
      "Epoch 62/100\n",
      "1680/1680 [==============================] - 40s 24ms/step - loss: 0.0042 - accuracy: 0.9995\n",
      "Epoch 63/100\n",
      "1680/1680 [==============================] - 37s 22ms/step - loss: 5.3739e-04 - accuracy: 0.9999\n",
      "Epoch 64/100\n",
      "1680/1680 [==============================] - 34s 20ms/step - loss: 0.0018 - accuracy: 0.9997\n",
      "Epoch 65/100\n",
      "1680/1680 [==============================] - 33s 20ms/step - loss: 0.0048 - accuracy: 0.9997\n",
      "Epoch 66/100\n",
      "1680/1680 [==============================] - 34s 20ms/step - loss: 0.0034 - accuracy: 0.9996\n",
      "Epoch 67/100\n",
      "1680/1680 [==============================] - 35s 21ms/step - loss: 4.7395e-05 - accuracy: 1.0000\n",
      "Epoch 68/100\n",
      "1680/1680 [==============================] - 34s 20ms/step - loss: 1.2599e-07 - accuracy: 1.0000\n",
      "Epoch 69/100\n",
      "1680/1680 [==============================] - 33s 20ms/step - loss: 4.2275e-08 - accuracy: 1.0000\n",
      "Epoch 70/100\n",
      "1680/1680 [==============================] - 34s 20ms/step - loss: 1.5200e-08 - accuracy: 1.0000\n",
      "Epoch 71/100\n",
      "1680/1680 [==============================] - 34s 20ms/step - loss: 8.5286e-09 - accuracy: 1.0000\n",
      "Epoch 72/100\n",
      "1680/1680 [==============================] - 34s 20ms/step - loss: 5.3118e-09 - accuracy: 1.0000\n",
      "Epoch 73/100\n",
      "1680/1680 [==============================] - 32s 19ms/step - loss: 3.7671e-09 - accuracy: 1.0000\n",
      "Epoch 74/100\n",
      "1680/1680 [==============================] - 33s 19ms/step - loss: 1.5606e-09 - accuracy: 1.0000\n",
      "Epoch 75/100\n",
      "1680/1680 [==============================] - 34s 20ms/step - loss: 1.2268e-09 - accuracy: 1.0000\n",
      "Epoch 76/100\n",
      "1680/1680 [==============================] - 34s 20ms/step - loss: 6.7720e-10 - accuracy: 1.0000\n",
      "Epoch 77/100\n"
     ]
    },
    {
     "name": "stdout",
     "output_type": "stream",
     "text": [
      "1680/1680 [==============================] - 33s 20ms/step - loss: 4.3429e-10 - accuracy: 1.0000\n",
      "Epoch 78/100\n",
      "1680/1680 [==============================] - 33s 20ms/step - loss: 1.9674e-10 - accuracy: 1.0000\n",
      "Epoch 79/100\n",
      "1680/1680 [==============================] - 34s 20ms/step - loss: 1.7917e-10 - accuracy: 1.0000\n",
      "Epoch 80/100\n",
      "1680/1680 [==============================] - 34s 20ms/step - loss: 1.3947e-10 - accuracy: 1.0000\n",
      "Epoch 81/100\n",
      "1680/1680 [==============================] - 33s 20ms/step - loss: 6.9980e-11 - accuracy: 1.0000\n",
      "Epoch 82/100\n",
      "1680/1680 [==============================] - 33s 20ms/step - loss: 9.1585e-12 - accuracy: 1.0000\n",
      "Epoch 83/100\n",
      "1680/1680 [==============================] - 33s 20ms/step - loss: 4.2763e-12 - accuracy: 1.0000\n",
      "Epoch 84/100\n",
      "1680/1680 [==============================] - 34s 20ms/step - loss: 0.0000e+00 - accuracy: 1.0000\n",
      "Epoch 85/100\n",
      "1680/1680 [==============================] - 34s 20ms/step - loss: 0.0000e+00 - accuracy: 1.0000\n",
      "Epoch 86/100\n",
      "1680/1680 [==============================] - 33s 20ms/step - loss: 0.0000e+00 - accuracy: 1.0000\n",
      "Epoch 87/100\n",
      "1680/1680 [==============================] - 33s 20ms/step - loss: 0.0000e+00 - accuracy: 1.0000\n",
      "Epoch 88/100\n",
      "1680/1680 [==============================] - 33s 20ms/step - loss: 0.0000e+00 - accuracy: 1.0000\n",
      "Epoch 89/100\n",
      "1680/1680 [==============================] - 33s 20ms/step - loss: 0.0000e+00 - accuracy: 1.0000\n",
      "Epoch 90/100\n",
      "1680/1680 [==============================] - 35s 21ms/step - loss: 0.0000e+00 - accuracy: 1.0000\n",
      "Epoch 91/100\n",
      "1680/1680 [==============================] - 33s 20ms/step - loss: 0.0000e+00 - accuracy: 1.0000\n",
      "Epoch 92/100\n",
      "1680/1680 [==============================] - 33s 20ms/step - loss: 0.0000e+00 - accuracy: 1.0000\n",
      "Epoch 93/100\n",
      "1680/1680 [==============================] - 33s 20ms/step - loss: 0.0000e+00 - accuracy: 1.0000\n",
      "Epoch 94/100\n",
      "1680/1680 [==============================] - 33s 20ms/step - loss: 0.0000e+00 - accuracy: 1.0000\n",
      "Epoch 95/100\n",
      "1680/1680 [==============================] - 34s 20ms/step - loss: 0.0000e+00 - accuracy: 1.0000\n",
      "Epoch 96/100\n",
      "1680/1680 [==============================] - 34s 20ms/step - loss: 0.0000e+00 - accuracy: 1.0000\n",
      "Epoch 97/100\n",
      "1680/1680 [==============================] - 34s 20ms/step - loss: 0.0000e+00 - accuracy: 1.0000\n",
      "Epoch 98/100\n",
      "1680/1680 [==============================] - 33s 20ms/step - loss: 0.0000e+00 - accuracy: 1.0000\n",
      "Epoch 99/100\n",
      "1680/1680 [==============================] - 33s 20ms/step - loss: 0.0000e+00 - accuracy: 1.0000\n",
      "Epoch 100/100\n",
      "1680/1680 [==============================] - 33s 20ms/step - loss: 0.0000e+00 - accuracy: 1.0000\n"
     ]
    },
    {
     "data": {
      "text/plain": [
       "<tensorflow.python.keras.callbacks.History at 0x15b1e55b0>"
      ]
     },
     "execution_count": 80,
     "metadata": {},
     "output_type": "execute_result"
    }
   ],
   "source": [
    "# Fitting the Network\n",
    "\n",
    "cnn_model.fit(train_X_cnn, train_y_cnn, epochs=100, batch_size=20)"
   ]
  },
  {
   "cell_type": "code",
   "execution_count": 84,
   "metadata": {},
   "outputs": [
    {
     "name": "stdout",
     "output_type": "stream",
     "text": [
      "263/263 [==============================] - 1s 5ms/step - loss: 0.1884 - accuracy: 0.9924\n",
      "CNN Model Accuracy: 0.9923809766769409\n"
     ]
    }
   ],
   "source": [
    "cnn_accuracy = cnn_model.evaluate(val_X_cnn, val_y_cnn)[1]\n",
    "print(\"CNN Model Accuracy:\", cnn_accuracy)"
   ]
  },
  {
   "cell_type": "markdown",
   "metadata": {},
   "source": [
    "**Validation Accuracy: 99.2%**"
   ]
  },
  {
   "cell_type": "markdown",
   "metadata": {},
   "source": [
    "## Results Analysis"
   ]
  },
  {
   "cell_type": "markdown",
   "metadata": {},
   "source": [
    "Initial results indicate that the **convolutional neural network** performs the best, while the **fully connected feed forward neural network** comes in a close second, followed by the **random forest**, which represents a traditional learner."
   ]
  }
 ],
 "metadata": {
  "kernelspec": {
   "display_name": "Python 3",
   "language": "python",
   "name": "python3"
  },
  "language_info": {
   "codemirror_mode": {
    "name": "ipython",
    "version": 3
   },
   "file_extension": ".py",
   "mimetype": "text/x-python",
   "name": "python",
   "nbconvert_exporter": "python",
   "pygments_lexer": "ipython3",
   "version": "3.8.2"
  }
 },
 "nbformat": 4,
 "nbformat_minor": 4
}
