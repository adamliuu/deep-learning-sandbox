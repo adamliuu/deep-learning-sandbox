{
 "cells": [
  {
   "cell_type": "markdown",
   "metadata": {},
   "source": [
    "# Deep Learning with MNIST"
   ]
  },
  {
   "cell_type": "markdown",
   "metadata": {},
   "source": [
    "## Loading Dependencies"
   ]
  },
  {
   "cell_type": "code",
   "execution_count": 1,
   "metadata": {},
   "outputs": [],
   "source": [
    "import numpy as np\n",
    "import pandas as pd\n",
    "import sklearn as sk\n",
    "import tensorflow as tf\n",
    "import matplotlib.pyplot as plt"
   ]
  },
  {
   "cell_type": "markdown",
   "metadata": {},
   "source": [
    "## Importing Data"
   ]
  },
  {
   "cell_type": "code",
   "execution_count": 2,
   "metadata": {},
   "outputs": [],
   "source": [
    "raw_train = pd.read_csv('mnist_data/train.csv')\n",
    "test_X = pd.read_csv('mnist_data/test.csv')"
   ]
  },
  {
   "cell_type": "code",
   "execution_count": 3,
   "metadata": {
    "scrolled": true,
    "tags": [
     "hide-input"
    ]
   },
   "outputs": [
    {
     "name": "stdout",
     "output_type": "stream",
     "text": [
      "Rows in training set: 42000\n"
     ]
    },
    {
     "data": {
      "text/html": [
       "<div>\n",
       "<style scoped>\n",
       "    .dataframe tbody tr th:only-of-type {\n",
       "        vertical-align: middle;\n",
       "    }\n",
       "\n",
       "    .dataframe tbody tr th {\n",
       "        vertical-align: top;\n",
       "    }\n",
       "\n",
       "    .dataframe thead th {\n",
       "        text-align: right;\n",
       "    }\n",
       "</style>\n",
       "<table border=\"1\" class=\"dataframe\">\n",
       "  <thead>\n",
       "    <tr style=\"text-align: right;\">\n",
       "      <th></th>\n",
       "      <th>label</th>\n",
       "      <th>pixel0</th>\n",
       "      <th>pixel1</th>\n",
       "      <th>pixel2</th>\n",
       "      <th>pixel3</th>\n",
       "      <th>pixel4</th>\n",
       "      <th>pixel5</th>\n",
       "      <th>pixel6</th>\n",
       "      <th>pixel7</th>\n",
       "      <th>pixel8</th>\n",
       "      <th>...</th>\n",
       "      <th>pixel774</th>\n",
       "      <th>pixel775</th>\n",
       "      <th>pixel776</th>\n",
       "      <th>pixel777</th>\n",
       "      <th>pixel778</th>\n",
       "      <th>pixel779</th>\n",
       "      <th>pixel780</th>\n",
       "      <th>pixel781</th>\n",
       "      <th>pixel782</th>\n",
       "      <th>pixel783</th>\n",
       "    </tr>\n",
       "  </thead>\n",
       "  <tbody>\n",
       "    <tr>\n",
       "      <th>0</th>\n",
       "      <td>1</td>\n",
       "      <td>0</td>\n",
       "      <td>0</td>\n",
       "      <td>0</td>\n",
       "      <td>0</td>\n",
       "      <td>0</td>\n",
       "      <td>0</td>\n",
       "      <td>0</td>\n",
       "      <td>0</td>\n",
       "      <td>0</td>\n",
       "      <td>...</td>\n",
       "      <td>0</td>\n",
       "      <td>0</td>\n",
       "      <td>0</td>\n",
       "      <td>0</td>\n",
       "      <td>0</td>\n",
       "      <td>0</td>\n",
       "      <td>0</td>\n",
       "      <td>0</td>\n",
       "      <td>0</td>\n",
       "      <td>0</td>\n",
       "    </tr>\n",
       "    <tr>\n",
       "      <th>1</th>\n",
       "      <td>0</td>\n",
       "      <td>0</td>\n",
       "      <td>0</td>\n",
       "      <td>0</td>\n",
       "      <td>0</td>\n",
       "      <td>0</td>\n",
       "      <td>0</td>\n",
       "      <td>0</td>\n",
       "      <td>0</td>\n",
       "      <td>0</td>\n",
       "      <td>...</td>\n",
       "      <td>0</td>\n",
       "      <td>0</td>\n",
       "      <td>0</td>\n",
       "      <td>0</td>\n",
       "      <td>0</td>\n",
       "      <td>0</td>\n",
       "      <td>0</td>\n",
       "      <td>0</td>\n",
       "      <td>0</td>\n",
       "      <td>0</td>\n",
       "    </tr>\n",
       "    <tr>\n",
       "      <th>2</th>\n",
       "      <td>1</td>\n",
       "      <td>0</td>\n",
       "      <td>0</td>\n",
       "      <td>0</td>\n",
       "      <td>0</td>\n",
       "      <td>0</td>\n",
       "      <td>0</td>\n",
       "      <td>0</td>\n",
       "      <td>0</td>\n",
       "      <td>0</td>\n",
       "      <td>...</td>\n",
       "      <td>0</td>\n",
       "      <td>0</td>\n",
       "      <td>0</td>\n",
       "      <td>0</td>\n",
       "      <td>0</td>\n",
       "      <td>0</td>\n",
       "      <td>0</td>\n",
       "      <td>0</td>\n",
       "      <td>0</td>\n",
       "      <td>0</td>\n",
       "    </tr>\n",
       "    <tr>\n",
       "      <th>3</th>\n",
       "      <td>4</td>\n",
       "      <td>0</td>\n",
       "      <td>0</td>\n",
       "      <td>0</td>\n",
       "      <td>0</td>\n",
       "      <td>0</td>\n",
       "      <td>0</td>\n",
       "      <td>0</td>\n",
       "      <td>0</td>\n",
       "      <td>0</td>\n",
       "      <td>...</td>\n",
       "      <td>0</td>\n",
       "      <td>0</td>\n",
       "      <td>0</td>\n",
       "      <td>0</td>\n",
       "      <td>0</td>\n",
       "      <td>0</td>\n",
       "      <td>0</td>\n",
       "      <td>0</td>\n",
       "      <td>0</td>\n",
       "      <td>0</td>\n",
       "    </tr>\n",
       "    <tr>\n",
       "      <th>4</th>\n",
       "      <td>0</td>\n",
       "      <td>0</td>\n",
       "      <td>0</td>\n",
       "      <td>0</td>\n",
       "      <td>0</td>\n",
       "      <td>0</td>\n",
       "      <td>0</td>\n",
       "      <td>0</td>\n",
       "      <td>0</td>\n",
       "      <td>0</td>\n",
       "      <td>...</td>\n",
       "      <td>0</td>\n",
       "      <td>0</td>\n",
       "      <td>0</td>\n",
       "      <td>0</td>\n",
       "      <td>0</td>\n",
       "      <td>0</td>\n",
       "      <td>0</td>\n",
       "      <td>0</td>\n",
       "      <td>0</td>\n",
       "      <td>0</td>\n",
       "    </tr>\n",
       "  </tbody>\n",
       "</table>\n",
       "<p>5 rows × 785 columns</p>\n",
       "</div>"
      ],
      "text/plain": [
       "   label  pixel0  pixel1  pixel2  pixel3  pixel4  pixel5  pixel6  pixel7  \\\n",
       "0      1       0       0       0       0       0       0       0       0   \n",
       "1      0       0       0       0       0       0       0       0       0   \n",
       "2      1       0       0       0       0       0       0       0       0   \n",
       "3      4       0       0       0       0       0       0       0       0   \n",
       "4      0       0       0       0       0       0       0       0       0   \n",
       "\n",
       "   pixel8  ...  pixel774  pixel775  pixel776  pixel777  pixel778  pixel779  \\\n",
       "0       0  ...         0         0         0         0         0         0   \n",
       "1       0  ...         0         0         0         0         0         0   \n",
       "2       0  ...         0         0         0         0         0         0   \n",
       "3       0  ...         0         0         0         0         0         0   \n",
       "4       0  ...         0         0         0         0         0         0   \n",
       "\n",
       "   pixel780  pixel781  pixel782  pixel783  \n",
       "0         0         0         0         0  \n",
       "1         0         0         0         0  \n",
       "2         0         0         0         0  \n",
       "3         0         0         0         0  \n",
       "4         0         0         0         0  \n",
       "\n",
       "[5 rows x 785 columns]"
      ]
     },
     "metadata": {},
     "output_type": "display_data"
    },
    {
     "name": "stdout",
     "output_type": "stream",
     "text": [
      "Rows in test set: 784\n"
     ]
    },
    {
     "data": {
      "text/html": [
       "<div>\n",
       "<style scoped>\n",
       "    .dataframe tbody tr th:only-of-type {\n",
       "        vertical-align: middle;\n",
       "    }\n",
       "\n",
       "    .dataframe tbody tr th {\n",
       "        vertical-align: top;\n",
       "    }\n",
       "\n",
       "    .dataframe thead th {\n",
       "        text-align: right;\n",
       "    }\n",
       "</style>\n",
       "<table border=\"1\" class=\"dataframe\">\n",
       "  <thead>\n",
       "    <tr style=\"text-align: right;\">\n",
       "      <th></th>\n",
       "      <th>pixel0</th>\n",
       "      <th>pixel1</th>\n",
       "      <th>pixel2</th>\n",
       "      <th>pixel3</th>\n",
       "      <th>pixel4</th>\n",
       "      <th>pixel5</th>\n",
       "      <th>pixel6</th>\n",
       "      <th>pixel7</th>\n",
       "      <th>pixel8</th>\n",
       "      <th>pixel9</th>\n",
       "      <th>...</th>\n",
       "      <th>pixel774</th>\n",
       "      <th>pixel775</th>\n",
       "      <th>pixel776</th>\n",
       "      <th>pixel777</th>\n",
       "      <th>pixel778</th>\n",
       "      <th>pixel779</th>\n",
       "      <th>pixel780</th>\n",
       "      <th>pixel781</th>\n",
       "      <th>pixel782</th>\n",
       "      <th>pixel783</th>\n",
       "    </tr>\n",
       "  </thead>\n",
       "  <tbody>\n",
       "    <tr>\n",
       "      <th>0</th>\n",
       "      <td>0</td>\n",
       "      <td>0</td>\n",
       "      <td>0</td>\n",
       "      <td>0</td>\n",
       "      <td>0</td>\n",
       "      <td>0</td>\n",
       "      <td>0</td>\n",
       "      <td>0</td>\n",
       "      <td>0</td>\n",
       "      <td>0</td>\n",
       "      <td>...</td>\n",
       "      <td>0</td>\n",
       "      <td>0</td>\n",
       "      <td>0</td>\n",
       "      <td>0</td>\n",
       "      <td>0</td>\n",
       "      <td>0</td>\n",
       "      <td>0</td>\n",
       "      <td>0</td>\n",
       "      <td>0</td>\n",
       "      <td>0</td>\n",
       "    </tr>\n",
       "    <tr>\n",
       "      <th>1</th>\n",
       "      <td>0</td>\n",
       "      <td>0</td>\n",
       "      <td>0</td>\n",
       "      <td>0</td>\n",
       "      <td>0</td>\n",
       "      <td>0</td>\n",
       "      <td>0</td>\n",
       "      <td>0</td>\n",
       "      <td>0</td>\n",
       "      <td>0</td>\n",
       "      <td>...</td>\n",
       "      <td>0</td>\n",
       "      <td>0</td>\n",
       "      <td>0</td>\n",
       "      <td>0</td>\n",
       "      <td>0</td>\n",
       "      <td>0</td>\n",
       "      <td>0</td>\n",
       "      <td>0</td>\n",
       "      <td>0</td>\n",
       "      <td>0</td>\n",
       "    </tr>\n",
       "    <tr>\n",
       "      <th>2</th>\n",
       "      <td>0</td>\n",
       "      <td>0</td>\n",
       "      <td>0</td>\n",
       "      <td>0</td>\n",
       "      <td>0</td>\n",
       "      <td>0</td>\n",
       "      <td>0</td>\n",
       "      <td>0</td>\n",
       "      <td>0</td>\n",
       "      <td>0</td>\n",
       "      <td>...</td>\n",
       "      <td>0</td>\n",
       "      <td>0</td>\n",
       "      <td>0</td>\n",
       "      <td>0</td>\n",
       "      <td>0</td>\n",
       "      <td>0</td>\n",
       "      <td>0</td>\n",
       "      <td>0</td>\n",
       "      <td>0</td>\n",
       "      <td>0</td>\n",
       "    </tr>\n",
       "    <tr>\n",
       "      <th>3</th>\n",
       "      <td>0</td>\n",
       "      <td>0</td>\n",
       "      <td>0</td>\n",
       "      <td>0</td>\n",
       "      <td>0</td>\n",
       "      <td>0</td>\n",
       "      <td>0</td>\n",
       "      <td>0</td>\n",
       "      <td>0</td>\n",
       "      <td>0</td>\n",
       "      <td>...</td>\n",
       "      <td>0</td>\n",
       "      <td>0</td>\n",
       "      <td>0</td>\n",
       "      <td>0</td>\n",
       "      <td>0</td>\n",
       "      <td>0</td>\n",
       "      <td>0</td>\n",
       "      <td>0</td>\n",
       "      <td>0</td>\n",
       "      <td>0</td>\n",
       "    </tr>\n",
       "    <tr>\n",
       "      <th>4</th>\n",
       "      <td>0</td>\n",
       "      <td>0</td>\n",
       "      <td>0</td>\n",
       "      <td>0</td>\n",
       "      <td>0</td>\n",
       "      <td>0</td>\n",
       "      <td>0</td>\n",
       "      <td>0</td>\n",
       "      <td>0</td>\n",
       "      <td>0</td>\n",
       "      <td>...</td>\n",
       "      <td>0</td>\n",
       "      <td>0</td>\n",
       "      <td>0</td>\n",
       "      <td>0</td>\n",
       "      <td>0</td>\n",
       "      <td>0</td>\n",
       "      <td>0</td>\n",
       "      <td>0</td>\n",
       "      <td>0</td>\n",
       "      <td>0</td>\n",
       "    </tr>\n",
       "  </tbody>\n",
       "</table>\n",
       "<p>5 rows × 784 columns</p>\n",
       "</div>"
      ],
      "text/plain": [
       "   pixel0  pixel1  pixel2  pixel3  pixel4  pixel5  pixel6  pixel7  pixel8  \\\n",
       "0       0       0       0       0       0       0       0       0       0   \n",
       "1       0       0       0       0       0       0       0       0       0   \n",
       "2       0       0       0       0       0       0       0       0       0   \n",
       "3       0       0       0       0       0       0       0       0       0   \n",
       "4       0       0       0       0       0       0       0       0       0   \n",
       "\n",
       "   pixel9  ...  pixel774  pixel775  pixel776  pixel777  pixel778  pixel779  \\\n",
       "0       0  ...         0         0         0         0         0         0   \n",
       "1       0  ...         0         0         0         0         0         0   \n",
       "2       0  ...         0         0         0         0         0         0   \n",
       "3       0  ...         0         0         0         0         0         0   \n",
       "4       0  ...         0         0         0         0         0         0   \n",
       "\n",
       "   pixel780  pixel781  pixel782  pixel783  \n",
       "0         0         0         0         0  \n",
       "1         0         0         0         0  \n",
       "2         0         0         0         0  \n",
       "3         0         0         0         0  \n",
       "4         0         0         0         0  \n",
       "\n",
       "[5 rows x 784 columns]"
      ]
     },
     "metadata": {},
     "output_type": "display_data"
    }
   ],
   "source": [
    "print(\"Rows in training set:\", raw_train.shape[0])\n",
    "display(raw_train.head())\n",
    "print(\"Rows in test set:\", test_X.shape[1])\n",
    "display(test_X.head())"
   ]
  },
  {
   "cell_type": "code",
   "execution_count": 4,
   "metadata": {},
   "outputs": [
    {
     "data": {
      "text/html": [
       "<div>\n",
       "<style scoped>\n",
       "    .dataframe tbody tr th:only-of-type {\n",
       "        vertical-align: middle;\n",
       "    }\n",
       "\n",
       "    .dataframe tbody tr th {\n",
       "        vertical-align: top;\n",
       "    }\n",
       "\n",
       "    .dataframe thead th {\n",
       "        text-align: right;\n",
       "    }\n",
       "</style>\n",
       "<table border=\"1\" class=\"dataframe\">\n",
       "  <thead>\n",
       "    <tr style=\"text-align: right;\">\n",
       "      <th></th>\n",
       "      <th>label</th>\n",
       "    </tr>\n",
       "    <tr>\n",
       "      <th>label</th>\n",
       "      <th></th>\n",
       "    </tr>\n",
       "  </thead>\n",
       "  <tbody>\n",
       "    <tr>\n",
       "      <th>0</th>\n",
       "      <td>4132</td>\n",
       "    </tr>\n",
       "    <tr>\n",
       "      <th>1</th>\n",
       "      <td>4684</td>\n",
       "    </tr>\n",
       "    <tr>\n",
       "      <th>2</th>\n",
       "      <td>4177</td>\n",
       "    </tr>\n",
       "    <tr>\n",
       "      <th>3</th>\n",
       "      <td>4351</td>\n",
       "    </tr>\n",
       "    <tr>\n",
       "      <th>4</th>\n",
       "      <td>4072</td>\n",
       "    </tr>\n",
       "    <tr>\n",
       "      <th>5</th>\n",
       "      <td>3795</td>\n",
       "    </tr>\n",
       "    <tr>\n",
       "      <th>6</th>\n",
       "      <td>4137</td>\n",
       "    </tr>\n",
       "    <tr>\n",
       "      <th>7</th>\n",
       "      <td>4401</td>\n",
       "    </tr>\n",
       "    <tr>\n",
       "      <th>8</th>\n",
       "      <td>4063</td>\n",
       "    </tr>\n",
       "    <tr>\n",
       "      <th>9</th>\n",
       "      <td>4188</td>\n",
       "    </tr>\n",
       "  </tbody>\n",
       "</table>\n",
       "</div>"
      ],
      "text/plain": [
       "       label\n",
       "label       \n",
       "0       4132\n",
       "1       4684\n",
       "2       4177\n",
       "3       4351\n",
       "4       4072\n",
       "5       3795\n",
       "6       4137\n",
       "7       4401\n",
       "8       4063\n",
       "9       4188"
      ]
     },
     "execution_count": 4,
     "metadata": {},
     "output_type": "execute_result"
    }
   ],
   "source": [
    "raw_train.groupby('label')[['label']].count()"
   ]
  },
  {
   "cell_type": "markdown",
   "metadata": {},
   "source": [
    "## Generating a Train-Validation Split for the Dataset"
   ]
  },
  {
   "cell_type": "code",
   "execution_count": 5,
   "metadata": {},
   "outputs": [],
   "source": [
    "# Here, we first randomly shuffle the data, then use an 80 (training set size) - 20 (test set size) split to create two\n",
    "# distinct datasets\n",
    "shuffled = raw_train.sample(frac=1)\n",
    "\n",
    "split_index = int(.8 * len(shuffled))\n",
    "\n",
    "# Training set will constitute 80% of the original raw training data\n",
    "train = raw_train.iloc[:split_index]\n",
    "\n",
    "# Validation set will constitute the other 20% of the raw training data\n",
    "val = raw_train.iloc[split_index:]\n",
    "\n",
    "# Finally, separate the label column from the features for convenience during model training\n",
    "train_X, train_y = train.iloc[:, train.columns != 'label'].reset_index(drop=True), train['label'].reset_index(drop=True)\n",
    "val_X, val_y = val.iloc[:, val.columns != 'label'].reset_index(drop=True), val['label'].reset_index(drop=True)"
   ]
  },
  {
   "cell_type": "code",
   "execution_count": 6,
   "metadata": {},
   "outputs": [
    {
     "data": {
      "text/html": [
       "<div>\n",
       "<style scoped>\n",
       "    .dataframe tbody tr th:only-of-type {\n",
       "        vertical-align: middle;\n",
       "    }\n",
       "\n",
       "    .dataframe tbody tr th {\n",
       "        vertical-align: top;\n",
       "    }\n",
       "\n",
       "    .dataframe thead th {\n",
       "        text-align: right;\n",
       "    }\n",
       "</style>\n",
       "<table border=\"1\" class=\"dataframe\">\n",
       "  <thead>\n",
       "    <tr style=\"text-align: right;\">\n",
       "      <th></th>\n",
       "      <th>pixel0</th>\n",
       "      <th>pixel1</th>\n",
       "      <th>pixel2</th>\n",
       "      <th>pixel3</th>\n",
       "      <th>pixel4</th>\n",
       "      <th>pixel5</th>\n",
       "      <th>pixel6</th>\n",
       "      <th>pixel7</th>\n",
       "      <th>pixel8</th>\n",
       "      <th>pixel9</th>\n",
       "      <th>...</th>\n",
       "      <th>pixel774</th>\n",
       "      <th>pixel775</th>\n",
       "      <th>pixel776</th>\n",
       "      <th>pixel777</th>\n",
       "      <th>pixel778</th>\n",
       "      <th>pixel779</th>\n",
       "      <th>pixel780</th>\n",
       "      <th>pixel781</th>\n",
       "      <th>pixel782</th>\n",
       "      <th>pixel783</th>\n",
       "    </tr>\n",
       "  </thead>\n",
       "  <tbody>\n",
       "    <tr>\n",
       "      <th>0</th>\n",
       "      <td>0</td>\n",
       "      <td>0</td>\n",
       "      <td>0</td>\n",
       "      <td>0</td>\n",
       "      <td>0</td>\n",
       "      <td>0</td>\n",
       "      <td>0</td>\n",
       "      <td>0</td>\n",
       "      <td>0</td>\n",
       "      <td>0</td>\n",
       "      <td>...</td>\n",
       "      <td>0</td>\n",
       "      <td>0</td>\n",
       "      <td>0</td>\n",
       "      <td>0</td>\n",
       "      <td>0</td>\n",
       "      <td>0</td>\n",
       "      <td>0</td>\n",
       "      <td>0</td>\n",
       "      <td>0</td>\n",
       "      <td>0</td>\n",
       "    </tr>\n",
       "    <tr>\n",
       "      <th>1</th>\n",
       "      <td>0</td>\n",
       "      <td>0</td>\n",
       "      <td>0</td>\n",
       "      <td>0</td>\n",
       "      <td>0</td>\n",
       "      <td>0</td>\n",
       "      <td>0</td>\n",
       "      <td>0</td>\n",
       "      <td>0</td>\n",
       "      <td>0</td>\n",
       "      <td>...</td>\n",
       "      <td>0</td>\n",
       "      <td>0</td>\n",
       "      <td>0</td>\n",
       "      <td>0</td>\n",
       "      <td>0</td>\n",
       "      <td>0</td>\n",
       "      <td>0</td>\n",
       "      <td>0</td>\n",
       "      <td>0</td>\n",
       "      <td>0</td>\n",
       "    </tr>\n",
       "    <tr>\n",
       "      <th>2</th>\n",
       "      <td>0</td>\n",
       "      <td>0</td>\n",
       "      <td>0</td>\n",
       "      <td>0</td>\n",
       "      <td>0</td>\n",
       "      <td>0</td>\n",
       "      <td>0</td>\n",
       "      <td>0</td>\n",
       "      <td>0</td>\n",
       "      <td>0</td>\n",
       "      <td>...</td>\n",
       "      <td>0</td>\n",
       "      <td>0</td>\n",
       "      <td>0</td>\n",
       "      <td>0</td>\n",
       "      <td>0</td>\n",
       "      <td>0</td>\n",
       "      <td>0</td>\n",
       "      <td>0</td>\n",
       "      <td>0</td>\n",
       "      <td>0</td>\n",
       "    </tr>\n",
       "    <tr>\n",
       "      <th>3</th>\n",
       "      <td>0</td>\n",
       "      <td>0</td>\n",
       "      <td>0</td>\n",
       "      <td>0</td>\n",
       "      <td>0</td>\n",
       "      <td>0</td>\n",
       "      <td>0</td>\n",
       "      <td>0</td>\n",
       "      <td>0</td>\n",
       "      <td>0</td>\n",
       "      <td>...</td>\n",
       "      <td>0</td>\n",
       "      <td>0</td>\n",
       "      <td>0</td>\n",
       "      <td>0</td>\n",
       "      <td>0</td>\n",
       "      <td>0</td>\n",
       "      <td>0</td>\n",
       "      <td>0</td>\n",
       "      <td>0</td>\n",
       "      <td>0</td>\n",
       "    </tr>\n",
       "    <tr>\n",
       "      <th>4</th>\n",
       "      <td>0</td>\n",
       "      <td>0</td>\n",
       "      <td>0</td>\n",
       "      <td>0</td>\n",
       "      <td>0</td>\n",
       "      <td>0</td>\n",
       "      <td>0</td>\n",
       "      <td>0</td>\n",
       "      <td>0</td>\n",
       "      <td>0</td>\n",
       "      <td>...</td>\n",
       "      <td>0</td>\n",
       "      <td>0</td>\n",
       "      <td>0</td>\n",
       "      <td>0</td>\n",
       "      <td>0</td>\n",
       "      <td>0</td>\n",
       "      <td>0</td>\n",
       "      <td>0</td>\n",
       "      <td>0</td>\n",
       "      <td>0</td>\n",
       "    </tr>\n",
       "  </tbody>\n",
       "</table>\n",
       "<p>5 rows × 784 columns</p>\n",
       "</div>"
      ],
      "text/plain": [
       "   pixel0  pixel1  pixel2  pixel3  pixel4  pixel5  pixel6  pixel7  pixel8  \\\n",
       "0       0       0       0       0       0       0       0       0       0   \n",
       "1       0       0       0       0       0       0       0       0       0   \n",
       "2       0       0       0       0       0       0       0       0       0   \n",
       "3       0       0       0       0       0       0       0       0       0   \n",
       "4       0       0       0       0       0       0       0       0       0   \n",
       "\n",
       "   pixel9  ...  pixel774  pixel775  pixel776  pixel777  pixel778  pixel779  \\\n",
       "0       0  ...         0         0         0         0         0         0   \n",
       "1       0  ...         0         0         0         0         0         0   \n",
       "2       0  ...         0         0         0         0         0         0   \n",
       "3       0  ...         0         0         0         0         0         0   \n",
       "4       0  ...         0         0         0         0         0         0   \n",
       "\n",
       "   pixel780  pixel781  pixel782  pixel783  \n",
       "0         0         0         0         0  \n",
       "1         0         0         0         0  \n",
       "2         0         0         0         0  \n",
       "3         0         0         0         0  \n",
       "4         0         0         0         0  \n",
       "\n",
       "[5 rows x 784 columns]"
      ]
     },
     "metadata": {},
     "output_type": "display_data"
    },
    {
     "data": {
      "text/plain": [
       "0    1\n",
       "1    0\n",
       "2    1\n",
       "3    4\n",
       "4    0\n",
       "Name: label, dtype: int64"
      ]
     },
     "metadata": {},
     "output_type": "display_data"
    },
    {
     "data": {
      "text/html": [
       "<div>\n",
       "<style scoped>\n",
       "    .dataframe tbody tr th:only-of-type {\n",
       "        vertical-align: middle;\n",
       "    }\n",
       "\n",
       "    .dataframe tbody tr th {\n",
       "        vertical-align: top;\n",
       "    }\n",
       "\n",
       "    .dataframe thead th {\n",
       "        text-align: right;\n",
       "    }\n",
       "</style>\n",
       "<table border=\"1\" class=\"dataframe\">\n",
       "  <thead>\n",
       "    <tr style=\"text-align: right;\">\n",
       "      <th></th>\n",
       "      <th>pixel0</th>\n",
       "      <th>pixel1</th>\n",
       "      <th>pixel2</th>\n",
       "      <th>pixel3</th>\n",
       "      <th>pixel4</th>\n",
       "      <th>pixel5</th>\n",
       "      <th>pixel6</th>\n",
       "      <th>pixel7</th>\n",
       "      <th>pixel8</th>\n",
       "      <th>pixel9</th>\n",
       "      <th>...</th>\n",
       "      <th>pixel774</th>\n",
       "      <th>pixel775</th>\n",
       "      <th>pixel776</th>\n",
       "      <th>pixel777</th>\n",
       "      <th>pixel778</th>\n",
       "      <th>pixel779</th>\n",
       "      <th>pixel780</th>\n",
       "      <th>pixel781</th>\n",
       "      <th>pixel782</th>\n",
       "      <th>pixel783</th>\n",
       "    </tr>\n",
       "  </thead>\n",
       "  <tbody>\n",
       "    <tr>\n",
       "      <th>0</th>\n",
       "      <td>0</td>\n",
       "      <td>0</td>\n",
       "      <td>0</td>\n",
       "      <td>0</td>\n",
       "      <td>0</td>\n",
       "      <td>0</td>\n",
       "      <td>0</td>\n",
       "      <td>0</td>\n",
       "      <td>0</td>\n",
       "      <td>0</td>\n",
       "      <td>...</td>\n",
       "      <td>0</td>\n",
       "      <td>0</td>\n",
       "      <td>0</td>\n",
       "      <td>0</td>\n",
       "      <td>0</td>\n",
       "      <td>0</td>\n",
       "      <td>0</td>\n",
       "      <td>0</td>\n",
       "      <td>0</td>\n",
       "      <td>0</td>\n",
       "    </tr>\n",
       "    <tr>\n",
       "      <th>1</th>\n",
       "      <td>0</td>\n",
       "      <td>0</td>\n",
       "      <td>0</td>\n",
       "      <td>0</td>\n",
       "      <td>0</td>\n",
       "      <td>0</td>\n",
       "      <td>0</td>\n",
       "      <td>0</td>\n",
       "      <td>0</td>\n",
       "      <td>0</td>\n",
       "      <td>...</td>\n",
       "      <td>0</td>\n",
       "      <td>0</td>\n",
       "      <td>0</td>\n",
       "      <td>0</td>\n",
       "      <td>0</td>\n",
       "      <td>0</td>\n",
       "      <td>0</td>\n",
       "      <td>0</td>\n",
       "      <td>0</td>\n",
       "      <td>0</td>\n",
       "    </tr>\n",
       "    <tr>\n",
       "      <th>2</th>\n",
       "      <td>0</td>\n",
       "      <td>0</td>\n",
       "      <td>0</td>\n",
       "      <td>0</td>\n",
       "      <td>0</td>\n",
       "      <td>0</td>\n",
       "      <td>0</td>\n",
       "      <td>0</td>\n",
       "      <td>0</td>\n",
       "      <td>0</td>\n",
       "      <td>...</td>\n",
       "      <td>0</td>\n",
       "      <td>0</td>\n",
       "      <td>0</td>\n",
       "      <td>0</td>\n",
       "      <td>0</td>\n",
       "      <td>0</td>\n",
       "      <td>0</td>\n",
       "      <td>0</td>\n",
       "      <td>0</td>\n",
       "      <td>0</td>\n",
       "    </tr>\n",
       "    <tr>\n",
       "      <th>3</th>\n",
       "      <td>0</td>\n",
       "      <td>0</td>\n",
       "      <td>0</td>\n",
       "      <td>0</td>\n",
       "      <td>0</td>\n",
       "      <td>0</td>\n",
       "      <td>0</td>\n",
       "      <td>0</td>\n",
       "      <td>0</td>\n",
       "      <td>0</td>\n",
       "      <td>...</td>\n",
       "      <td>0</td>\n",
       "      <td>0</td>\n",
       "      <td>0</td>\n",
       "      <td>0</td>\n",
       "      <td>0</td>\n",
       "      <td>0</td>\n",
       "      <td>0</td>\n",
       "      <td>0</td>\n",
       "      <td>0</td>\n",
       "      <td>0</td>\n",
       "    </tr>\n",
       "    <tr>\n",
       "      <th>4</th>\n",
       "      <td>0</td>\n",
       "      <td>0</td>\n",
       "      <td>0</td>\n",
       "      <td>0</td>\n",
       "      <td>0</td>\n",
       "      <td>0</td>\n",
       "      <td>0</td>\n",
       "      <td>0</td>\n",
       "      <td>0</td>\n",
       "      <td>0</td>\n",
       "      <td>...</td>\n",
       "      <td>0</td>\n",
       "      <td>0</td>\n",
       "      <td>0</td>\n",
       "      <td>0</td>\n",
       "      <td>0</td>\n",
       "      <td>0</td>\n",
       "      <td>0</td>\n",
       "      <td>0</td>\n",
       "      <td>0</td>\n",
       "      <td>0</td>\n",
       "    </tr>\n",
       "  </tbody>\n",
       "</table>\n",
       "<p>5 rows × 784 columns</p>\n",
       "</div>"
      ],
      "text/plain": [
       "   pixel0  pixel1  pixel2  pixel3  pixel4  pixel5  pixel6  pixel7  pixel8  \\\n",
       "0       0       0       0       0       0       0       0       0       0   \n",
       "1       0       0       0       0       0       0       0       0       0   \n",
       "2       0       0       0       0       0       0       0       0       0   \n",
       "3       0       0       0       0       0       0       0       0       0   \n",
       "4       0       0       0       0       0       0       0       0       0   \n",
       "\n",
       "   pixel9  ...  pixel774  pixel775  pixel776  pixel777  pixel778  pixel779  \\\n",
       "0       0  ...         0         0         0         0         0         0   \n",
       "1       0  ...         0         0         0         0         0         0   \n",
       "2       0  ...         0         0         0         0         0         0   \n",
       "3       0  ...         0         0         0         0         0         0   \n",
       "4       0  ...         0         0         0         0         0         0   \n",
       "\n",
       "   pixel780  pixel781  pixel782  pixel783  \n",
       "0         0         0         0         0  \n",
       "1         0         0         0         0  \n",
       "2         0         0         0         0  \n",
       "3         0         0         0         0  \n",
       "4         0         0         0         0  \n",
       "\n",
       "[5 rows x 784 columns]"
      ]
     },
     "metadata": {},
     "output_type": "display_data"
    },
    {
     "data": {
      "text/plain": [
       "0    0\n",
       "1    7\n",
       "2    7\n",
       "3    2\n",
       "4    2\n",
       "Name: label, dtype: int64"
      ]
     },
     "metadata": {},
     "output_type": "display_data"
    }
   ],
   "source": [
    "display(train_X.head())\n",
    "display(train_y.head())\n",
    "display(val_X.head())\n",
    "display(val_y.head())"
   ]
  },
  {
   "cell_type": "markdown",
   "metadata": {},
   "source": [
    "## Visualizing the Dataset\n",
    "\n",
    "Since each row represents a 28 x 28 image flattened into a 1-D array where each pixel value represents the shade of the color of that pixel, we can use functions available in the **matplotlib** package to actually visualize each row as images. Here are a few examples below:"
   ]
  },
  {
   "cell_type": "code",
   "execution_count": 73,
   "metadata": {},
   "outputs": [],
   "source": [
    "def plot_image(row, shape=(28, 28)):\n",
    "    array_row = np.array(row)\n",
    "    reshaped = array_row.reshape(shape)\n",
    "    plt.imshow(reshaped, cmap=\"gray\")\n",
    "    plt.show();"
   ]
  },
  {
   "cell_type": "code",
   "execution_count": 74,
   "metadata": {},
   "outputs": [
    {
     "name": "stdout",
     "output_type": "stream",
     "text": [
      "Showing image 0 with truth label: 1\n"
     ]
    },
    {
     "data": {
      "image/png": "[encoded data removed]",
      "text/plain": [
       "<Figure size 432x288 with 1 Axes>"
      ]
     },
     "metadata": {
      "needs_background": "light"
     },
     "output_type": "display_data"
    },
    {
     "name": "stdout",
     "output_type": "stream",
     "text": [
      "Showing image 1 with truth label: 0\n"
     ]
    },
    {
     "data": {
      "image/png": "[encoded data removed]",
      "text/plain": [
       "<Figure size 432x288 with 1 Axes>"
      ]
     },
     "metadata": {
      "needs_background": "light"
     },
     "output_type": "display_data"
    },
    {
     "name": "stdout",
     "output_type": "stream",
     "text": [
      "Showing image 2 with truth label: 1\n"
     ]
    },
    {
     "data": {
      "image/png": "[encoded data removed]",
      "text/plain": [
       "<Figure size 432x288 with 1 Axes>"
      ]
     },
     "metadata": {
      "needs_background": "light"
     },
     "output_type": "display_data"
    },
    {
     "name": "stdout",
     "output_type": "stream",
     "text": [
      "Showing image 3 with truth label: 4\n"
     ]
    },
    {
     "data": {
      "image/png": "[encoded data removed]",
      "text/plain": [
       "<Figure size 432x288 with 1 Axes>"
      ]
     },
     "metadata": {
      "needs_background": "light"
     },
     "output_type": "display_data"
    },
    {
     "name": "stdout",
     "output_type": "stream",
     "text": [
      "Showing image 4 with truth label: 0\n"
     ]
    },
    {
     "data": {
      "image/png": "[encoded data removed]",
      "text/plain": [
       "<Figure size 432x288 with 1 Axes>"
      ]
     },
     "metadata": {
      "needs_background": "light"
     },
     "output_type": "display_data"
    }
   ],
   "source": [
    "for i in range(5):\n",
    "    print(\"Showing image\", i, \"with truth label:\", train_y.iloc[i])\n",
    "    row = train_X.iloc[i]\n",
    "    # Reshape the row into a 28 x 28 matrix\n",
    "    plot_image(row)"
   ]
  },
  {
   "cell_type": "markdown",
   "metadata": {},
   "source": [
    "## Supervised Learning"
   ]
  },
  {
   "cell_type": "code",
   "execution_count": 17,
   "metadata": {},
   "outputs": [],
   "source": [
    "def calculate_accuracy(predictions, actual):\n",
    "    return np.sum(predictions == actual) / len(actual)"
   ]
  },
  {
   "cell_type": "markdown",
   "metadata": {},
   "source": [
    "### Benchmark Classifier for Comparison: Random Forest"
   ]
  },
  {
   "cell_type": "code",
   "execution_count": 11,
   "metadata": {
    "pycharm": {
     "name": "#%%\n"
    }
   },
   "outputs": [],
   "source": [
    "from sklearn.ensemble import RandomForestClassifier\n",
    "rf = RandomForestClassifier(criterion='entropy', min_samples_split=10)"
   ]
  },
  {
   "cell_type": "code",
   "execution_count": 13,
   "metadata": {},
   "outputs": [
    {
     "data": {
      "text/plain": [
       "RandomForestClassifier(criterion='entropy', min_samples_split=10)"
      ]
     },
     "execution_count": 13,
     "metadata": {},
     "output_type": "execute_result"
    }
   ],
   "source": [
    "rf.fit(train_X, train_y)"
   ]
  },
  {
   "cell_type": "code",
   "execution_count": 22,
   "metadata": {},
   "outputs": [],
   "source": [
    "rf_train_predictions = rf.predict(train_X)\n",
    "rf_val_predictions = rf.predict(val_X)"
   ]
  },
  {
   "cell_type": "code",
   "execution_count": 23,
   "metadata": {},
   "outputs": [
    {
     "data": {
      "text/plain": [
       "array([0, 7, 7, ..., 7, 6, 9])"
      ]
     },
     "execution_count": 23,
     "metadata": {},
     "output_type": "execute_result"
    }
   ],
   "source": [
    "rf_val_predictions"
   ]
  },
  {
   "cell_type": "code",
   "execution_count": 26,
   "metadata": {},
   "outputs": [
    {
     "data": {
      "text/plain": [
       "0.9629761904761904"
      ]
     },
     "execution_count": 26,
     "metadata": {},
     "output_type": "execute_result"
    }
   ],
   "source": [
    "calculate_accuracy(rf_val_predictions, val_y)"
   ]
  },
  {
   "cell_type": "markdown",
   "metadata": {},
   "source": [
    "**Validation Accuracy: 96.3%**"
   ]
  },
  {
   "cell_type": "markdown",
   "metadata": {},
   "source": [
    "### Misclassification Analysis"
   ]
  },
  {
   "cell_type": "code",
   "execution_count": 38,
   "metadata": {},
   "outputs": [],
   "source": [
    "rf_mistakes_X = val_X[rf_val_predictions != val_y]\n",
    "rf_mistakes_y = val_y[rf_val_predictions != val_y]\n",
    "rf_mistakes_predictions = rf_val_predictions[rf_val_predictions != val_y]"
   ]
  },
  {
   "cell_type": "code",
   "execution_count": 75,
   "metadata": {
    "scrolled": false
   },
   "outputs": [
    {
     "name": "stdout",
     "output_type": "stream",
     "text": [
      "Truth label: 5\n",
      "Predicted label: 3\n"
     ]
    },
    {
     "data": {
      "image/png": "[encoded data removed]",
      "text/plain": [
       "<Figure size 432x288 with 1 Axes>"
      ]
     },
     "metadata": {
      "needs_background": "light"
     },
     "output_type": "display_data"
    },
    {
     "name": "stdout",
     "output_type": "stream",
     "text": [
      "Truth label: 0\n",
      "Predicted label: 6\n"
     ]
    },
    {
     "data": {
      "image/png": "[encoded data removed]",
      "text/plain": [
       "<Figure size 432x288 with 1 Axes>"
      ]
     },
     "metadata": {
      "needs_background": "light"
     },
     "output_type": "display_data"
    },
    {
     "name": "stdout",
     "output_type": "stream",
     "text": [
      "Truth label: 3\n",
      "Predicted label: 7\n"
     ]
    },
    {
     "data": {
      "image/png": "[encoded data removed]",
      "text/plain": [
       "<Figure size 432x288 with 1 Axes>"
      ]
     },
     "metadata": {
      "needs_background": "light"
     },
     "output_type": "display_data"
    },
    {
     "name": "stdout",
     "output_type": "stream",
     "text": [
      "Truth label: 3\n",
      "Predicted label: 7\n"
     ]
    },
    {
     "data": {
      "image/png": "[encoded data removed]",
      "text/plain": [
       "<Figure size 432x288 with 1 Axes>"
      ]
     },
     "metadata": {
      "needs_background": "light"
     },
     "output_type": "display_data"
    },
    {
     "name": "stdout",
     "output_type": "stream",
     "text": [
      "Truth label: 3\n",
      "Predicted label: 2\n"
     ]
    },
    {
     "data": {
      "image/png": "[encoded data removed]",
      "text/plain": [
       "<Figure size 432x288 with 1 Axes>"
      ]
     },
     "metadata": {
      "needs_background": "light"
     },
     "output_type": "display_data"
    },
    {
     "name": "stdout",
     "output_type": "stream",
     "text": [
      "Truth label: 3\n",
      "Predicted label: 5\n"
     ]
    },
    {
     "data": {
      "image/png": "[encoded data removed]",
      "text/plain": [
       "<Figure size 432x288 with 1 Axes>"
      ]
     },
     "metadata": {
      "needs_background": "light"
     },
     "output_type": "display_data"
    },
    {
     "name": "stdout",
     "output_type": "stream",
     "text": [
      "Truth label: 7\n",
      "Predicted label: 9\n"
     ]
    },
    {
     "data": {
      "image/png": "[encoded data removed]",
      "text/plain": [
       "<Figure size 432x288 with 1 Axes>"
      ]
     },
     "metadata": {
      "needs_background": "light"
     },
     "output_type": "display_data"
    },
    {
     "name": "stdout",
     "output_type": "stream",
     "text": [
      "Truth label: 5\n",
      "Predicted label: 1\n"
     ]
    },
    {
     "data": {
      "image/png": "[encoded data removed]",
      "text/plain": [
       "<Figure size 432x288 with 1 Axes>"
      ]
     },
     "metadata": {
      "needs_background": "light"
     },
     "output_type": "display_data"
    },
    {
     "name": "stdout",
     "output_type": "stream",
     "text": [
      "Truth label: 3\n",
      "Predicted label: 7\n"
     ]
    },
    {
     "data": {
      "image/png": "[encoded data removed]",
      "text/plain": [
       "<Figure size 432x288 with 1 Axes>"
      ]
     },
     "metadata": {
      "needs_background": "light"
     },
     "output_type": "display_data"
    },
    {
     "name": "stdout",
     "output_type": "stream",
     "text": [
      "Truth label: 4\n",
      "Predicted label: 9\n"
     ]
    },
    {
     "data": {
      "image/png": "[encoded data removed]",
      "text/plain": [
       "<Figure size 432x288 with 1 Axes>"
      ]
     },
     "metadata": {
      "needs_background": "light"
     },
     "output_type": "display_data"
    }
   ],
   "source": [
    "# Plot some images and compare them to predicted results\n",
    "for i in range(10):\n",
    "    print(\"Truth label:\", rf_mistakes_y.iloc[i])\n",
    "    print(\"Predicted label:\", rf_mistakes_predictions[i])\n",
    "    row = rf_mistakes_X.iloc[i]\n",
    "    # Reshape the row into a 28 x 28 matrix\n",
    "    plot_image(row)"
   ]
  },
  {
   "cell_type": "markdown",
   "metadata": {},
   "source": [
    "### Deep Learning Classifier: Feed-Forward Neural Network"
   ]
  },
  {
   "cell_type": "code",
   "execution_count": 27,
   "metadata": {},
   "outputs": [],
   "source": [
    "from tensorflow.keras import Sequential\n",
    "from tensorflow.keras.layers import Dense"
   ]
  },
  {
   "cell_type": "code",
   "execution_count": 58,
   "metadata": {},
   "outputs": [],
   "source": [
    "# Neural Network Initialization\n",
    "\n",
    "ff_model = Sequential([\n",
    "    Dense(1024, input_dim=train_X.shape[1], activation='relu'),\n",
    "    Dense(10, activation='softmax')\n",
    "])"
   ]
  },
  {
   "cell_type": "code",
   "execution_count": 59,
   "metadata": {},
   "outputs": [],
   "source": [
    "# Compiling the Network\n",
    "\n",
    "ff_model.compile(loss='sparse_categorical_crossentropy', optimizer='adam', metrics=['accuracy'])"
   ]
  },
  {
   "cell_type": "code",
   "execution_count": 60,
   "metadata": {},
   "outputs": [
    {
     "name": "stdout",
     "output_type": "stream",
     "text": [
      "Epoch 1/200\n",
      "1680/1680 [==============================] - 8s 4ms/step - loss: 11.0212 - accuracy: 0.8519\n",
      "Epoch 2/200\n",
      "1680/1680 [==============================] - 7s 4ms/step - loss: 0.5729 - accuracy: 0.9323\n",
      "Epoch 3/200\n",
      "1680/1680 [==============================] - 7s 4ms/step - loss: 0.5760 - accuracy: 0.9323\n",
      "Epoch 4/200\n",
      "1680/1680 [==============================] - 7s 4ms/step - loss: 0.4273 - accuracy: 0.9413\n",
      "Epoch 5/200\n",
      "1680/1680 [==============================] - 7s 4ms/step - loss: 0.3454 - accuracy: 0.9487\n",
      "Epoch 6/200\n",
      "1680/1680 [==============================] - 8s 5ms/step - loss: 0.2975 - accuracy: 0.9505\n",
      "Epoch 7/200\n",
      "1680/1680 [==============================] - 7s 4ms/step - loss: 0.3052 - accuracy: 0.9532\n",
      "Epoch 8/200\n",
      "1680/1680 [==============================] - 7s 4ms/step - loss: 0.2444 - accuracy: 0.9601\n",
      "Epoch 9/200\n",
      "1680/1680 [==============================] - 7s 4ms/step - loss: 0.2655 - accuracy: 0.9554\n",
      "Epoch 10/200\n",
      "1680/1680 [==============================] - 7s 4ms/step - loss: 0.2313 - accuracy: 0.9628\n",
      "Epoch 11/200\n",
      "1680/1680 [==============================] - 8s 5ms/step - loss: 0.2106 - accuracy: 0.9607\n",
      "Epoch 12/200\n",
      "1680/1680 [==============================] - 8s 5ms/step - loss: 0.2097 - accuracy: 0.9650\n",
      "Epoch 13/200\n",
      "1680/1680 [==============================] - 8s 5ms/step - loss: 0.2974 - accuracy: 0.9608\n",
      "Epoch 14/200\n",
      "1680/1680 [==============================] - 7s 4ms/step - loss: 0.1843 - accuracy: 0.9660\n",
      "Epoch 15/200\n",
      "1680/1680 [==============================] - 7s 4ms/step - loss: 0.2313 - accuracy: 0.9675\n",
      "Epoch 16/200\n",
      "1680/1680 [==============================] - 7s 4ms/step - loss: 0.1817 - accuracy: 0.9690\n",
      "Epoch 17/200\n",
      "1680/1680 [==============================] - 8s 4ms/step - loss: 0.1884 - accuracy: 0.9696\n",
      "Epoch 18/200\n",
      "1680/1680 [==============================] - 7s 4ms/step - loss: 0.2340 - accuracy: 0.9685\n",
      "Epoch 19/200\n",
      "1680/1680 [==============================] - 8s 5ms/step - loss: 0.1676 - accuracy: 0.9722\n",
      "Epoch 20/200\n",
      "1680/1680 [==============================] - 8s 5ms/step - loss: 0.2054 - accuracy: 0.9709\n",
      "Epoch 21/200\n",
      "1680/1680 [==============================] - 7s 4ms/step - loss: 0.2043 - accuracy: 0.9717\n",
      "Epoch 22/200\n",
      "1680/1680 [==============================] - 8s 4ms/step - loss: 0.1714 - accuracy: 0.9743\n",
      "Epoch 23/200\n",
      "1680/1680 [==============================] - 8s 5ms/step - loss: 0.1452 - accuracy: 0.9753\n",
      "Epoch 24/200\n",
      "1680/1680 [==============================] - 8s 5ms/step - loss: 0.1716 - accuracy: 0.9723\n",
      "Epoch 25/200\n",
      "1680/1680 [==============================] - 7s 4ms/step - loss: 0.1615 - accuracy: 0.9743\n",
      "Epoch 26/200\n",
      "1680/1680 [==============================] - 7s 4ms/step - loss: 0.1835 - accuracy: 0.9739\n",
      "Epoch 27/200\n",
      "1680/1680 [==============================] - 7s 4ms/step - loss: 0.1772 - accuracy: 0.9725\n",
      "Epoch 28/200\n",
      "1680/1680 [==============================] - 7s 4ms/step - loss: 0.1846 - accuracy: 0.9732\n",
      "Epoch 29/200\n",
      "1680/1680 [==============================] - 8s 4ms/step - loss: 0.1419 - accuracy: 0.9786\n",
      "Epoch 30/200\n",
      "1680/1680 [==============================] - 7s 4ms/step - loss: 0.1673 - accuracy: 0.9746\n",
      "Epoch 31/200\n",
      "1680/1680 [==============================] - 7s 4ms/step - loss: 0.1690 - accuracy: 0.9757\n",
      "Epoch 32/200\n",
      "1680/1680 [==============================] - 8s 5ms/step - loss: 0.1592 - accuracy: 0.9768\n",
      "Epoch 33/200\n",
      "1680/1680 [==============================] - 8s 5ms/step - loss: 0.1686 - accuracy: 0.9756\n",
      "Epoch 34/200\n",
      "1680/1680 [==============================] - 8s 4ms/step - loss: 0.1261 - accuracy: 0.9787\n",
      "Epoch 35/200\n",
      "1680/1680 [==============================] - 8s 4ms/step - loss: 0.1460 - accuracy: 0.9777\n",
      "Epoch 36/200\n",
      "1680/1680 [==============================] - 8s 5ms/step - loss: 0.1554 - accuracy: 0.9778\n",
      "Epoch 37/200\n",
      "1680/1680 [==============================] - 8s 4ms/step - loss: 0.1254 - accuracy: 0.9796\n",
      "Epoch 38/200\n",
      "1680/1680 [==============================] - 8s 5ms/step - loss: 0.1377 - accuracy: 0.9795\n",
      "Epoch 39/200\n",
      "1680/1680 [==============================] - 8s 5ms/step - loss: 0.1337 - accuracy: 0.9797\n",
      "Epoch 40/200\n",
      "1680/1680 [==============================] - 8s 5ms/step - loss: 0.1831 - accuracy: 0.9777\n",
      "Epoch 41/200\n",
      "1680/1680 [==============================] - 8s 5ms/step - loss: 0.1356 - accuracy: 0.9797\n",
      "Epoch 42/200\n",
      "1680/1680 [==============================] - 8s 5ms/step - loss: 0.1443 - accuracy: 0.9800\n",
      "Epoch 43/200\n",
      "1680/1680 [==============================] - 8s 5ms/step - loss: 0.1644 - accuracy: 0.9813\n",
      "Epoch 44/200\n",
      "1680/1680 [==============================] - 8s 5ms/step - loss: 0.1230 - accuracy: 0.9809\n",
      "Epoch 45/200\n",
      "1680/1680 [==============================] - 8s 5ms/step - loss: 0.1243 - accuracy: 0.9789\n",
      "Epoch 46/200\n",
      "1680/1680 [==============================] - 8s 5ms/step - loss: 0.1270 - accuracy: 0.9819\n",
      "Epoch 47/200\n",
      "1680/1680 [==============================] - 8s 5ms/step - loss: 0.1510 - accuracy: 0.9815\n",
      "Epoch 48/200\n",
      "1680/1680 [==============================] - 8s 5ms/step - loss: 0.1287 - accuracy: 0.9825\n",
      "Epoch 49/200\n",
      "1680/1680 [==============================] - 8s 5ms/step - loss: 0.1386 - accuracy: 0.9814\n",
      "Epoch 50/200\n",
      "1680/1680 [==============================] - 8s 5ms/step - loss: 0.1367 - accuracy: 0.9829\n",
      "Epoch 51/200\n",
      "1680/1680 [==============================] - 8s 5ms/step - loss: 0.1324 - accuracy: 0.9822\n",
      "Epoch 52/200\n",
      "1680/1680 [==============================] - 8s 5ms/step - loss: 0.1077 - accuracy: 0.9826\n",
      "Epoch 53/200\n",
      "1680/1680 [==============================] - 7s 4ms/step - loss: 0.1103 - accuracy: 0.9826\n",
      "Epoch 54/200\n",
      "1680/1680 [==============================] - 7s 4ms/step - loss: 0.1206 - accuracy: 0.9820\n",
      "Epoch 55/200\n",
      "1680/1680 [==============================] - 7s 4ms/step - loss: 0.1082 - accuracy: 0.9836\n",
      "Epoch 56/200\n",
      "1680/1680 [==============================] - 7s 4ms/step - loss: 0.1462 - accuracy: 0.9828\n",
      "Epoch 57/200\n",
      "1680/1680 [==============================] - 7s 4ms/step - loss: 0.1348 - accuracy: 0.9826\n",
      "Epoch 58/200\n",
      "1680/1680 [==============================] - 7s 4ms/step - loss: 0.1728 - accuracy: 0.9817\n",
      "Epoch 59/200\n",
      "1680/1680 [==============================] - 7s 4ms/step - loss: 0.0984 - accuracy: 0.9837\n",
      "Epoch 60/200\n",
      "1680/1680 [==============================] - 7s 4ms/step - loss: 0.1007 - accuracy: 0.9828\n",
      "Epoch 61/200\n",
      "1680/1680 [==============================] - 7s 4ms/step - loss: 0.1137 - accuracy: 0.9831\n",
      "Epoch 62/200\n",
      "1680/1680 [==============================] - 7s 4ms/step - loss: 0.1286 - accuracy: 0.9846\n",
      "Epoch 63/200\n",
      "1680/1680 [==============================] - 7s 4ms/step - loss: 0.1345 - accuracy: 0.9824\n",
      "Epoch 64/200\n",
      "1680/1680 [==============================] - 7s 4ms/step - loss: 0.0978 - accuracy: 0.9853\n",
      "Epoch 65/200\n",
      "1680/1680 [==============================] - 7s 4ms/step - loss: 0.1478 - accuracy: 0.9820\n",
      "Epoch 66/200\n",
      "1680/1680 [==============================] - 7s 4ms/step - loss: 0.1097 - accuracy: 0.9841\n",
      "Epoch 67/200\n",
      "1680/1680 [==============================] - 7s 4ms/step - loss: 0.1071 - accuracy: 0.9845\n",
      "Epoch 68/200\n",
      "1680/1680 [==============================] - 7s 4ms/step - loss: 0.1093 - accuracy: 0.9830\n",
      "Epoch 69/200\n",
      "1680/1680 [==============================] - 7s 4ms/step - loss: 0.1333 - accuracy: 0.9855\n",
      "Epoch 70/200\n",
      "1680/1680 [==============================] - 7s 4ms/step - loss: 0.1327 - accuracy: 0.9840\n",
      "Epoch 71/200\n",
      "1680/1680 [==============================] - 7s 4ms/step - loss: 0.1022 - accuracy: 0.9836\n",
      "Epoch 72/200\n",
      "1680/1680 [==============================] - 7s 4ms/step - loss: 0.1089 - accuracy: 0.9830\n",
      "Epoch 73/200\n",
      "1680/1680 [==============================] - 7s 4ms/step - loss: 0.0967 - accuracy: 0.9832\n",
      "Epoch 74/200\n",
      "1680/1680 [==============================] - 7s 4ms/step - loss: 0.1093 - accuracy: 0.9839\n",
      "Epoch 75/200\n",
      "1680/1680 [==============================] - 7s 4ms/step - loss: 0.1521 - accuracy: 0.9840\n",
      "Epoch 76/200\n",
      "1680/1680 [==============================] - 7s 4ms/step - loss: 0.1052 - accuracy: 0.9850\n",
      "Epoch 77/200\n",
      "1680/1680 [==============================] - 7s 4ms/step - loss: 0.1257 - accuracy: 0.9835\n",
      "Epoch 78/200\n",
      "1680/1680 [==============================] - 7s 4ms/step - loss: 0.1272 - accuracy: 0.9844\n",
      "Epoch 79/200\n"
     ]
    },
    {
     "name": "stdout",
     "output_type": "stream",
     "text": [
      "1680/1680 [==============================] - 7s 4ms/step - loss: 0.0893 - accuracy: 0.9847\n",
      "Epoch 80/200\n",
      "1680/1680 [==============================] - 7s 4ms/step - loss: 0.1122 - accuracy: 0.9835\n",
      "Epoch 81/200\n",
      "1680/1680 [==============================] - 7s 4ms/step - loss: 0.1146 - accuracy: 0.9829\n",
      "Epoch 82/200\n",
      "1680/1680 [==============================] - 7s 4ms/step - loss: 0.1296 - accuracy: 0.9854\n",
      "Epoch 83/200\n",
      "1680/1680 [==============================] - 7s 4ms/step - loss: 0.0978 - accuracy: 0.9842\n",
      "Epoch 84/200\n",
      "1680/1680 [==============================] - 7s 4ms/step - loss: 0.0867 - accuracy: 0.9859\n",
      "Epoch 85/200\n",
      "1680/1680 [==============================] - 7s 4ms/step - loss: 0.1506 - accuracy: 0.9836\n",
      "Epoch 86/200\n",
      "1680/1680 [==============================] - 7s 4ms/step - loss: 0.1068 - accuracy: 0.9858\n",
      "Epoch 87/200\n",
      "1680/1680 [==============================] - 7s 4ms/step - loss: 0.1071 - accuracy: 0.9870\n",
      "Epoch 88/200\n",
      "1680/1680 [==============================] - 7s 4ms/step - loss: 0.1454 - accuracy: 0.9858\n",
      "Epoch 89/200\n",
      "1680/1680 [==============================] - 7s 4ms/step - loss: 0.0909 - accuracy: 0.9872\n",
      "Epoch 90/200\n",
      "1680/1680 [==============================] - 7s 4ms/step - loss: 0.1022 - accuracy: 0.9873\n",
      "Epoch 91/200\n",
      "1680/1680 [==============================] - 7s 4ms/step - loss: 0.1093 - accuracy: 0.9878\n",
      "Epoch 92/200\n",
      "1680/1680 [==============================] - 7s 4ms/step - loss: 0.1739 - accuracy: 0.9860\n",
      "Epoch 93/200\n",
      "1680/1680 [==============================] - 7s 4ms/step - loss: 0.0652 - accuracy: 0.9871\n",
      "Epoch 94/200\n",
      "1680/1680 [==============================] - 7s 4ms/step - loss: 0.1236 - accuracy: 0.9863\n",
      "Epoch 95/200\n",
      "1680/1680 [==============================] - 7s 4ms/step - loss: 0.1104 - accuracy: 0.9857\n",
      "Epoch 96/200\n",
      "1680/1680 [==============================] - 7s 4ms/step - loss: 0.0963 - accuracy: 0.9880\n",
      "Epoch 97/200\n",
      "1680/1680 [==============================] - 7s 4ms/step - loss: 0.0796 - accuracy: 0.9878\n",
      "Epoch 98/200\n",
      "1680/1680 [==============================] - 7s 4ms/step - loss: 0.1317 - accuracy: 0.9871\n",
      "Epoch 99/200\n",
      "1680/1680 [==============================] - 7s 4ms/step - loss: 0.1094 - accuracy: 0.9873\n",
      "Epoch 100/200\n",
      "1680/1680 [==============================] - 7s 4ms/step - loss: 0.0724 - accuracy: 0.9868\n",
      "Epoch 101/200\n",
      "1680/1680 [==============================] - 7s 4ms/step - loss: 0.0837 - accuracy: 0.9887\n",
      "Epoch 102/200\n",
      "1680/1680 [==============================] - 7s 4ms/step - loss: 0.0858 - accuracy: 0.9870\n",
      "Epoch 103/200\n",
      "1680/1680 [==============================] - 7s 4ms/step - loss: 0.1418 - accuracy: 0.9864\n",
      "Epoch 104/200\n",
      "1680/1680 [==============================] - 7s 4ms/step - loss: 0.1073 - accuracy: 0.9871\n",
      "Epoch 105/200\n",
      "1680/1680 [==============================] - 7s 4ms/step - loss: 0.0866 - accuracy: 0.9871\n",
      "Epoch 106/200\n",
      "1680/1680 [==============================] - 7s 4ms/step - loss: 0.1155 - accuracy: 0.9874\n",
      "Epoch 107/200\n",
      "1680/1680 [==============================] - 7s 4ms/step - loss: 0.1065 - accuracy: 0.9886\n",
      "Epoch 108/200\n",
      "1680/1680 [==============================] - 8s 5ms/step - loss: 0.0908 - accuracy: 0.9876\n",
      "Epoch 109/200\n",
      "1680/1680 [==============================] - 8s 5ms/step - loss: 0.0760 - accuracy: 0.9868\n",
      "Epoch 110/200\n",
      "1680/1680 [==============================] - 8s 5ms/step - loss: 0.0826 - accuracy: 0.9869\n",
      "Epoch 111/200\n",
      "1680/1680 [==============================] - 8s 5ms/step - loss: 0.1209 - accuracy: 0.9877\n",
      "Epoch 112/200\n",
      "1680/1680 [==============================] - 7s 4ms/step - loss: 0.1084 - accuracy: 0.9881\n",
      "Epoch 113/200\n",
      "1680/1680 [==============================] - 7s 4ms/step - loss: 0.0952 - accuracy: 0.9897\n",
      "Epoch 114/200\n",
      "1680/1680 [==============================] - 8s 5ms/step - loss: 0.0902 - accuracy: 0.9876\n",
      "Epoch 115/200\n",
      "1680/1680 [==============================] - 8s 5ms/step - loss: 0.0652 - accuracy: 0.9898\n",
      "Epoch 116/200\n",
      "1680/1680 [==============================] - 7s 4ms/step - loss: 0.0530 - accuracy: 0.9883\n",
      "Epoch 117/200\n",
      "1680/1680 [==============================] - 7s 4ms/step - loss: 0.1181 - accuracy: 0.9870\n",
      "Epoch 118/200\n",
      "1680/1680 [==============================] - 8s 5ms/step - loss: 0.0514 - accuracy: 0.9889\n",
      "Epoch 119/200\n",
      "1680/1680 [==============================] - 7s 4ms/step - loss: 0.0605 - accuracy: 0.9890\n",
      "Epoch 120/200\n",
      "1680/1680 [==============================] - 7s 4ms/step - loss: 0.0793 - accuracy: 0.9895\n",
      "Epoch 121/200\n",
      "1680/1680 [==============================] - 8s 5ms/step - loss: 0.0848 - accuracy: 0.9892\n",
      "Epoch 122/200\n",
      "1680/1680 [==============================] - 8s 5ms/step - loss: 0.0907 - accuracy: 0.9870\n",
      "Epoch 123/200\n",
      "1680/1680 [==============================] - 8s 5ms/step - loss: 0.0796 - accuracy: 0.9884\n",
      "Epoch 124/200\n",
      "1680/1680 [==============================] - 8s 5ms/step - loss: 0.1519 - accuracy: 0.9866\n",
      "Epoch 125/200\n",
      "1680/1680 [==============================] - 8s 4ms/step - loss: 0.0928 - accuracy: 0.9879\n",
      "Epoch 126/200\n",
      "1680/1680 [==============================] - 7s 4ms/step - loss: 0.0752 - accuracy: 0.9892\n",
      "Epoch 127/200\n",
      "1680/1680 [==============================] - 7s 4ms/step - loss: 0.0556 - accuracy: 0.9885\n",
      "Epoch 128/200\n",
      "1680/1680 [==============================] - 8s 5ms/step - loss: 0.0887 - accuracy: 0.9875\n",
      "Epoch 129/200\n",
      "1680/1680 [==============================] - 8s 5ms/step - loss: 0.0952 - accuracy: 0.9883\n",
      "Epoch 130/200\n",
      "1680/1680 [==============================] - 8s 5ms/step - loss: 0.0915 - accuracy: 0.9885\n",
      "Epoch 131/200\n",
      "1680/1680 [==============================] - 8s 5ms/step - loss: 0.1223 - accuracy: 0.9884\n",
      "Epoch 132/200\n",
      "1680/1680 [==============================] - 7s 4ms/step - loss: 0.0824 - accuracy: 0.9905\n",
      "Epoch 133/200\n",
      "1680/1680 [==============================] - 7s 4ms/step - loss: 0.0938 - accuracy: 0.9891\n",
      "Epoch 134/200\n",
      "1680/1680 [==============================] - 8s 5ms/step - loss: 0.0905 - accuracy: 0.9917\n",
      "Epoch 135/200\n",
      "1680/1680 [==============================] - 8s 5ms/step - loss: 0.0752 - accuracy: 0.9905\n",
      "Epoch 136/200\n",
      "1680/1680 [==============================] - 8s 5ms/step - loss: 0.1218 - accuracy: 0.9894\n",
      "Epoch 137/200\n",
      "1680/1680 [==============================] - 8s 5ms/step - loss: 0.0741 - accuracy: 0.9904\n",
      "Epoch 138/200\n",
      "1680/1680 [==============================] - 8s 4ms/step - loss: 0.0769 - accuracy: 0.9897\n",
      "Epoch 139/200\n",
      "1680/1680 [==============================] - 7s 4ms/step - loss: 0.0995 - accuracy: 0.9900\n",
      "Epoch 140/200\n",
      "1680/1680 [==============================] - 7s 4ms/step - loss: 0.0718 - accuracy: 0.9895\n",
      "Epoch 141/200\n",
      "1680/1680 [==============================] - 8s 5ms/step - loss: 0.0660 - accuracy: 0.9902\n",
      "Epoch 142/200\n",
      "1680/1680 [==============================] - 8s 5ms/step - loss: 0.1509 - accuracy: 0.9881\n",
      "Epoch 143/200\n",
      "1680/1680 [==============================] - 8s 5ms/step - loss: 0.0486 - accuracy: 0.9901\n",
      "Epoch 144/200\n",
      "1680/1680 [==============================] - 8s 5ms/step - loss: 0.0542 - accuracy: 0.9908\n",
      "Epoch 145/200\n",
      "1680/1680 [==============================] - 7s 4ms/step - loss: 0.0860 - accuracy: 0.9895\n",
      "Epoch 146/200\n",
      "1680/1680 [==============================] - 7s 4ms/step - loss: 0.0834 - accuracy: 0.9872\n",
      "Epoch 147/200\n",
      "1680/1680 [==============================] - 8s 5ms/step - loss: 0.0728 - accuracy: 0.9903\n",
      "Epoch 148/200\n",
      "1680/1680 [==============================] - 8s 5ms/step - loss: 0.0777 - accuracy: 0.9912\n",
      "Epoch 149/200\n",
      "1680/1680 [==============================] - 8s 5ms/step - loss: 0.0450 - accuracy: 0.9901\n",
      "Epoch 150/200\n",
      "1680/1680 [==============================] - 8s 5ms/step - loss: 0.1046 - accuracy: 0.9900\n",
      "Epoch 151/200\n",
      "1680/1680 [==============================] - 8s 5ms/step - loss: 0.0817 - accuracy: 0.9888\n",
      "Epoch 152/200\n",
      "1680/1680 [==============================] - 7s 4ms/step - loss: 0.1228 - accuracy: 0.9895\n",
      "Epoch 153/200\n",
      "1680/1680 [==============================] - 7s 4ms/step - loss: 0.1276 - accuracy: 0.9900\n",
      "Epoch 154/200\n",
      "1680/1680 [==============================] - 8s 5ms/step - loss: 0.0860 - accuracy: 0.9904\n",
      "Epoch 155/200\n",
      "1680/1680 [==============================] - 8s 5ms/step - loss: 0.0766 - accuracy: 0.9905\n",
      "Epoch 156/200\n",
      "1680/1680 [==============================] - 8s 5ms/step - loss: 0.0468 - accuracy: 0.9909\n",
      "Epoch 157/200\n"
     ]
    },
    {
     "name": "stdout",
     "output_type": "stream",
     "text": [
      "1680/1680 [==============================] - 8s 5ms/step - loss: 0.0732 - accuracy: 0.9896\n",
      "Epoch 158/200\n",
      "1680/1680 [==============================] - 7s 4ms/step - loss: 0.0613 - accuracy: 0.9892\n",
      "Epoch 159/200\n",
      "1680/1680 [==============================] - 7s 4ms/step - loss: 0.0781 - accuracy: 0.9889\n",
      "Epoch 160/200\n",
      "1680/1680 [==============================] - 8s 5ms/step - loss: 0.0722 - accuracy: 0.9902\n",
      "Epoch 161/200\n",
      "1680/1680 [==============================] - 8s 5ms/step - loss: 0.0583 - accuracy: 0.9903\n",
      "Epoch 162/200\n",
      "1680/1680 [==============================] - 8s 5ms/step - loss: 0.0691 - accuracy: 0.9902\n",
      "Epoch 163/200\n",
      "1680/1680 [==============================] - 8s 5ms/step - loss: 0.0465 - accuracy: 0.9899\n",
      "Epoch 164/200\n",
      "1680/1680 [==============================] - 8s 5ms/step - loss: 0.1094 - accuracy: 0.9899\n",
      "Epoch 165/200\n",
      "1680/1680 [==============================] - 7s 4ms/step - loss: 0.0718 - accuracy: 0.9914\n",
      "Epoch 166/200\n",
      "1680/1680 [==============================] - 7s 4ms/step - loss: 0.1070 - accuracy: 0.9891\n",
      "Epoch 167/200\n",
      "1680/1680 [==============================] - 8s 5ms/step - loss: 0.0542 - accuracy: 0.9922\n",
      "Epoch 168/200\n",
      "1680/1680 [==============================] - 8s 5ms/step - loss: 0.0776 - accuracy: 0.9911\n",
      "Epoch 169/200\n",
      "1680/1680 [==============================] - 8s 5ms/step - loss: 0.1123 - accuracy: 0.9893\n",
      "Epoch 170/200\n",
      "1680/1680 [==============================] - 8s 5ms/step - loss: 0.0827 - accuracy: 0.9903\n",
      "Epoch 171/200\n",
      "1680/1680 [==============================] - 7s 4ms/step - loss: 0.0439 - accuracy: 0.9910\n",
      "Epoch 172/200\n",
      "1680/1680 [==============================] - 7s 4ms/step - loss: 0.1115 - accuracy: 0.9882\n",
      "Epoch 173/200\n",
      "1680/1680 [==============================] - 8s 5ms/step - loss: 0.0547 - accuracy: 0.9912\n",
      "Epoch 174/200\n",
      "1680/1680 [==============================] - 8s 5ms/step - loss: 0.0487 - accuracy: 0.9906\n",
      "Epoch 175/200\n",
      "1680/1680 [==============================] - 8s 5ms/step - loss: 0.0541 - accuracy: 0.9909\n",
      "Epoch 176/200\n",
      "1680/1680 [==============================] - 8s 5ms/step - loss: 0.0318 - accuracy: 0.9915\n",
      "Epoch 177/200\n",
      "1680/1680 [==============================] - 8s 5ms/step - loss: 0.0838 - accuracy: 0.9908\n",
      "Epoch 178/200\n",
      "1680/1680 [==============================] - 7s 4ms/step - loss: 0.0365 - accuracy: 0.9927\n",
      "Epoch 179/200\n",
      "1680/1680 [==============================] - 7s 4ms/step - loss: 0.0400 - accuracy: 0.9918\n",
      "Epoch 180/200\n",
      "1680/1680 [==============================] - 8s 5ms/step - loss: 0.0904 - accuracy: 0.9913\n",
      "Epoch 181/200\n",
      "1680/1680 [==============================] - 8s 5ms/step - loss: 0.0589 - accuracy: 0.9911\n",
      "Epoch 182/200\n",
      "1680/1680 [==============================] - 8s 5ms/step - loss: 0.0582 - accuracy: 0.9914\n",
      "Epoch 183/200\n",
      "1680/1680 [==============================] - 8s 5ms/step - loss: 0.0901 - accuracy: 0.9921\n",
      "Epoch 184/200\n",
      "1680/1680 [==============================] - 7s 4ms/step - loss: 0.0853 - accuracy: 0.9893\n",
      "Epoch 185/200\n",
      "1680/1680 [==============================] - 7s 4ms/step - loss: 0.1485 - accuracy: 0.9907\n",
      "Epoch 186/200\n",
      "1680/1680 [==============================] - 8s 5ms/step - loss: 0.0838 - accuracy: 0.9910\n",
      "Epoch 187/200\n",
      "1680/1680 [==============================] - 7s 4ms/step - loss: 0.0383 - accuracy: 0.9913\n",
      "Epoch 188/200\n",
      "1680/1680 [==============================] - 7s 4ms/step - loss: 0.0628 - accuracy: 0.9911\n",
      "Epoch 189/200\n",
      "1680/1680 [==============================] - 7s 4ms/step - loss: 0.0528 - accuracy: 0.9915\n",
      "Epoch 190/200\n",
      "1680/1680 [==============================] - 7s 4ms/step - loss: 0.0665 - accuracy: 0.9904\n",
      "Epoch 191/200\n",
      "1680/1680 [==============================] - 7s 4ms/step - loss: 0.0808 - accuracy: 0.9903\n",
      "Epoch 192/200\n",
      "1680/1680 [==============================] - 7s 4ms/step - loss: 0.0517 - accuracy: 0.9912\n",
      "Epoch 193/200\n",
      "1680/1680 [==============================] - 7s 4ms/step - loss: 0.0556 - accuracy: 0.9904\n",
      "Epoch 194/200\n",
      "1680/1680 [==============================] - 7s 4ms/step - loss: 0.0417 - accuracy: 0.9925\n",
      "Epoch 195/200\n",
      "1680/1680 [==============================] - 7s 4ms/step - loss: 0.0547 - accuracy: 0.9915\n",
      "Epoch 196/200\n",
      "1680/1680 [==============================] - 7s 4ms/step - loss: 0.0619 - accuracy: 0.9915\n",
      "Epoch 197/200\n",
      "1680/1680 [==============================] - 7s 4ms/step - loss: 0.0372 - accuracy: 0.9913\n",
      "Epoch 198/200\n",
      "1680/1680 [==============================] - 7s 4ms/step - loss: 0.0573 - accuracy: 0.9924\n",
      "Epoch 199/200\n",
      "1680/1680 [==============================] - 7s 4ms/step - loss: 0.1362 - accuracy: 0.9916\n",
      "Epoch 200/200\n",
      "1680/1680 [==============================] - 7s 4ms/step - loss: 0.0735 - accuracy: 0.9904\n"
     ]
    },
    {
     "data": {
      "text/plain": [
       "<tensorflow.python.keras.callbacks.History at 0x161aac880>"
      ]
     },
     "execution_count": 60,
     "metadata": {},
     "output_type": "execute_result"
    }
   ],
   "source": [
    "# Fitting and Evaluating the Network\n",
    "\n",
    "ff_model.fit(train_X, train_y, epochs=200, batch_size=20)"
   ]
  },
  {
   "cell_type": "code",
   "execution_count": 62,
   "metadata": {},
   "outputs": [
    {
     "name": "stdout",
     "output_type": "stream",
     "text": [
      "263/263 [==============================] - 0s 1ms/step - loss: 5.8191 - accuracy: 0.9658\n",
      "Feed Forward Model Accuracy: 0.965833306312561\n"
     ]
    }
   ],
   "source": [
    "accuracy = ff_model.evaluate(val_X, val_y)[1]\n",
    "print(\"Feed Forward Model Accuracy:\", accuracy)"
   ]
  },
  {
   "cell_type": "markdown",
   "metadata": {},
   "source": [
    "**Validation Accuracy: 96.6%**"
   ]
  },
  {
   "cell_type": "markdown",
   "metadata": {},
   "source": [
    "### Deep Learning Classifier: Convolutional Neural Network"
   ]
  }
 ],
 "metadata": {
  "kernelspec": {
   "display_name": "Python 3",
   "language": "python",
   "name": "python3"
  },
  "language_info": {
   "codemirror_mode": {
    "name": "ipython",
    "version": 3
   },
   "file_extension": ".py",
   "mimetype": "text/x-python",
   "name": "python",
   "nbconvert_exporter": "python",
   "pygments_lexer": "ipython3",
   "version": "3.8.2"
  }
 },
 "nbformat": 4,
 "nbformat_minor": 4
}
